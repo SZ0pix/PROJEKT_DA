{
 "cells": [
  {
   "cell_type": "markdown",
   "metadata": {},
   "source": [
    "## Predicting alcohol consumption in Moskow\n",
    "### Authors: Mikołaj Szopa, Bartosz Trynda\n",
    "The main objective of the project is to analyze and attempt to make a forecast of per capita alcohol consumption based on data gathered \\\n",
    "between 1998 and 2016 in Russia. In addition, the aim is to check whether the GDP values can help to estiamte future cinsumption.\n",
    "\n",
    "If the algorithm works fine it might be help for i.e. non-governmental organizations for preparing resources and create plans for \\\n",
    "campaigns against alcoholism and addiction.\n",
    "\n",
    "\n",
    "### The data\n",
    "The data used in this project comes mainly for kaggle webstite https://www.kaggle.com/datasets/dwdkills/alcohol-consumption-in-russia \\\n",
    "Data set contains values of consumption of different types of alcohols i.e. beer, vodka, wine etc. durig 18 years between 1998 and 2016.\\\n",
    "As for the project data of pure alcohol consumption was needed, some calculation were required. Using beer as an example, for a given  \n",
    "number of average beer consumption in a year we had to calculate the content of pure alcohol in this number. Then this step was repeated \\\n",
    "for the other types of alcohol and the results were summed up.\n",
    "In addition the data set was extended by additional\\\n",
    "GDP per Capita data found on The World Bank website https://data.worldbank.org/indicator/NY.GDP.PCAP.CD?locations=RU .\n",
    "\n",
    "To test the projection, a reference value for 2017 of 11.19 liters per capita was used.\n"
   ]
  },
  {
   "cell_type": "code",
   "execution_count": 2,
   "metadata": {},
   "outputs": [],
   "source": [
    "from cmdstanpy import CmdStanModel\n",
    "import pandas as pd\n",
    "import arviz as az \n",
    "import numpy as np\n",
    "import matplotlib.pyplot as plt\n",
    "import scipy.stats as stats"
   ]
  },
  {
   "cell_type": "code",
   "execution_count": 3,
   "metadata": {},
   "outputs": [],
   "source": [
    "DATA_2017=11.19\n",
    "data_mos = pd.read_csv('Moskwa.csv',sep=';')\n",
    "data_years=data_mos['year'].to_numpy()\n",
    "data_values=data_mos['alcohol'].to_numpy()\n",
    "data_gdp=data_mos['GDP_per_capita'].to_numpy()\n",
    "zeros=[0,0,0,0,0,0,0,0,0,0,0,0,0,0,0,0,0,0,0]\n"
   ]
  },
  {
   "cell_type": "markdown",
   "metadata": {},
   "source": [
    "Data presentation"
   ]
  },
  {
   "cell_type": "code",
   "execution_count": 4,
   "metadata": {},
   "outputs": [
    {
     "data": {
      "text/html": [
       "<div>\n",
       "<style scoped>\n",
       "    .dataframe tbody tr th:only-of-type {\n",
       "        vertical-align: middle;\n",
       "    }\n",
       "\n",
       "    .dataframe tbody tr th {\n",
       "        vertical-align: top;\n",
       "    }\n",
       "\n",
       "    .dataframe thead th {\n",
       "        text-align: right;\n",
       "    }\n",
       "</style>\n",
       "<table border=\"1\" class=\"dataframe\">\n",
       "  <thead>\n",
       "    <tr style=\"text-align: right;\">\n",
       "      <th></th>\n",
       "      <th>year</th>\n",
       "      <th>region</th>\n",
       "      <th>wine</th>\n",
       "      <th>beer</th>\n",
       "      <th>vodka</th>\n",
       "      <th>champagne</th>\n",
       "      <th>brandy</th>\n",
       "      <th>alcohol</th>\n",
       "      <th>GDP_per_capita</th>\n",
       "    </tr>\n",
       "  </thead>\n",
       "  <tbody>\n",
       "    <tr>\n",
       "      <th>0</th>\n",
       "      <td>1998</td>\n",
       "      <td>Moscow</td>\n",
       "      <td>6.8</td>\n",
       "      <td>30.0</td>\n",
       "      <td>18.9</td>\n",
       "      <td>3.5</td>\n",
       "      <td>0.7</td>\n",
       "      <td>10.63</td>\n",
       "      <td>1834.9</td>\n",
       "    </tr>\n",
       "    <tr>\n",
       "      <th>1</th>\n",
       "      <td>1999</td>\n",
       "      <td>Moscow</td>\n",
       "      <td>6.6</td>\n",
       "      <td>56.0</td>\n",
       "      <td>18.7</td>\n",
       "      <td>3.6</td>\n",
       "      <td>0.7</td>\n",
       "      <td>11.83</td>\n",
       "      <td>1330.8</td>\n",
       "    </tr>\n",
       "    <tr>\n",
       "      <th>2</th>\n",
       "      <td>2000</td>\n",
       "      <td>Moscow</td>\n",
       "      <td>6.3</td>\n",
       "      <td>61.8</td>\n",
       "      <td>18.8</td>\n",
       "      <td>3.9</td>\n",
       "      <td>0.6</td>\n",
       "      <td>12.12</td>\n",
       "      <td>1771.6</td>\n",
       "    </tr>\n",
       "    <tr>\n",
       "      <th>3</th>\n",
       "      <td>2001</td>\n",
       "      <td>Moscow</td>\n",
       "      <td>5.0</td>\n",
       "      <td>78.9</td>\n",
       "      <td>19.7</td>\n",
       "      <td>4.2</td>\n",
       "      <td>0.7</td>\n",
       "      <td>13.24</td>\n",
       "      <td>2100.4</td>\n",
       "    </tr>\n",
       "    <tr>\n",
       "      <th>4</th>\n",
       "      <td>2002</td>\n",
       "      <td>Moscow</td>\n",
       "      <td>4.8</td>\n",
       "      <td>85.7</td>\n",
       "      <td>20.8</td>\n",
       "      <td>4.0</td>\n",
       "      <td>0.9</td>\n",
       "      <td>14.05</td>\n",
       "      <td>2377.5</td>\n",
       "    </tr>\n",
       "  </tbody>\n",
       "</table>\n",
       "</div>"
      ],
      "text/plain": [
       "   year  region  wine  beer  vodka  champagne  brandy  alcohol  GDP_per_capita\n",
       "0  1998  Moscow   6.8  30.0   18.9        3.5     0.7    10.63          1834.9\n",
       "1  1999  Moscow   6.6  56.0   18.7        3.6     0.7    11.83          1330.8\n",
       "2  2000  Moscow   6.3  61.8   18.8        3.9     0.6    12.12          1771.6\n",
       "3  2001  Moscow   5.0  78.9   19.7        4.2     0.7    13.24          2100.4\n",
       "4  2002  Moscow   4.8  85.7   20.8        4.0     0.9    14.05          2377.5"
      ]
     },
     "execution_count": 4,
     "metadata": {},
     "output_type": "execute_result"
    }
   ],
   "source": [
    "data_mos.head()"
   ]
  },
  {
   "cell_type": "code",
   "execution_count": 5,
   "metadata": {},
   "outputs": [
    {
     "data": {
      "text/plain": [
       "Text(0.5, 1.0, 'Alcohol consumption in Moskow')"
      ]
     },
     "execution_count": 5,
     "metadata": {},
     "output_type": "execute_result"
    },
    {
     "data": {
      "image/png": "[encoded data removed]",
      "text/plain": [
       "<Figure size 1008x360 with 1 Axes>"
      ]
     },
     "metadata": {
      "needs_background": "light"
     },
     "output_type": "display_data"
    }
   ],
   "source": [
    "fig = plt.figure(figsize=(14,5))\n",
    "plt.grid(True)\n",
    "plt.grid\n",
    "plt.plot(data_years,data_values,color='0.75')\n",
    "plt.xlabel('Year')\n",
    "plt.ylabel('Liters')\n",
    "plt.title('Alcohol consumption in Moskow')"
   ]
  },
  {
   "cell_type": "markdown",
   "metadata": {},
   "source": [
    "It is clear from the data that alcohol consumption is decreasing over the years with a peak around 2006.\\\n",
    "\n",
    "The question is, if this trend is related to some phenomena and can be linked to i.e. GDP or is it more or less random.\n",
    "\n",
    "To find this out, two models were chosen for analysis:\\\n",
    "1. normal: *value = normal($\\mu$,$\\sigma$)*\n",
    "2. quadratic regression: *value = normal($\\beta$·gdp+$\\beta$ _2·gdp^2+$\\alpha$,$\\sigma$)*\n",
    "\n",
    "The first model uses normal distribution, parameters are $\\mu$ - the average value, and the $\\sigma$ - the varaince of values. \\\n",
    " The use of the normal model means that the outcome value is not linked to any porcess and it is simply a randnom value within a specific range.\\\n",
    "For example, given your previous year alcohol consumption, it is rather unlikely that it affects how much you drink this year.\n",
    "\n",
    "The second model also uses normal distribution, but in place of $\\mu$, quadratic polynomial is included. Depending on gdp and $\\beta$ values, the \\\n",
    "average value of normal distributoin will move. with the model with quadratic equation we assuem that the consumption increases as the gdp increases, \\\n",
    "but when the sociaty is becoming wealthy, it spends its money on things other than alcohol. The second degree of polynomial was chosen because the \\\n",
    "linear regression tested before did not fit to data."
   ]
  },
  {
   "cell_type": "markdown",
   "metadata": {},
   "source": [
    "### Normal model\n",
    "For our model some prior had to be chosen. As we do not know what are typical values for alcohol consumption we had\\\n",
    "to pick priors by trial.\n",
    "\n",
    "Assuming that: \n",
    "1. a beer(500ml) contains 22,5 ml of alcohol\n",
    "2. a glass of wine (175ml) contains 21 ml of alcohol\n",
    "3. a glass of vodka (50ml) contains 20 ml of alcohol\n",
    "\n",
    "Lets imagine a normal peroson that drinks beer five times a week, and two times a week wine to dinner. That gives us 116,5 ml\\\n",
    "of alcohol per week. In addition lets assume that the same person once a month goes to party and drinks 10 shots of vodka.\\\n",
    "It gives us around 11 liters of alcohol per year. As we know we are calcualting valeus for people in Russia, so lets add additional\\\n",
    "1,5 litre to out value.\n",
    "\n",
    "We also have to think that some people might go to party twice a month and some will go to one every two month or more rarely.\\\n",
    "So lets set our value is in the range of plus or minus 2,5 liters. Taking all of this into consideration we end up with mean value \\\n",
    "of 12,5 and variance for mean of 2,5.\n",
    "\n",
    "The sigma value was set to 0,6.  About 90% of the values are within plus or minus 1 liter of the average value"
   ]
  },
  {
   "cell_type": "code",
   "execution_count": 6,
   "metadata": {},
   "outputs": [
    {
     "name": "stdout",
     "output_type": "stream",
     "text": [
      "generated quantities {\n",
      "   real mu = normal_rng(12.5,2.5);\n",
      "   real sigma = fabs(normal_rng(0,0.6));\n",
      "   real alcohol =  normal_rng(mu, sigma);\n",
      "}\n"
     ]
    }
   ],
   "source": [
    "with open('normal_pre.stan','r') as file:\n",
    "    print(file.read())"
   ]
  },
  {
   "cell_type": "code",
   "execution_count": 7,
   "metadata": {},
   "outputs": [
    {
     "name": "stderr",
     "output_type": "stream",
     "text": [
      "INFO:cmdstanpy:found newer exe file, not recompiling\n"
     ]
    }
   ],
   "source": [
    "model_normal = CmdStanModel(stan_file='normal_pre.stan')"
   ]
  },
  {
   "cell_type": "code",
   "execution_count": 8,
   "metadata": {},
   "outputs": [
    {
     "name": "stderr",
     "output_type": "stream",
     "text": [
      "INFO:cmdstanpy:CmdStan start processing\n",
      "chain 1 |\u001b[34m██████████\u001b[0m| 00:00 Sampling completed"
     ]
    },
    {
     "name": "stdout",
     "output_type": "stream",
     "text": [
      "                                                                                "
     ]
    },
    {
     "name": "stderr",
     "output_type": "stream",
     "text": [
      "\n",
      "INFO:cmdstanpy:CmdStan done processing.\n"
     ]
    },
    {
     "name": "stdout",
     "output_type": "stream",
     "text": [
      "\n"
     ]
    }
   ],
   "source": [
    "samp_model1 = model_normal.sample(iter_sampling=1000, iter_warmup=0, chains=1, fixed_param=True, seed=22042020,refresh=1000)"
   ]
  },
  {
   "cell_type": "code",
   "execution_count": 9,
   "metadata": {},
   "outputs": [
    {
     "data": {
      "text/html": [
       "<div>\n",
       "<style scoped>\n",
       "    .dataframe tbody tr th:only-of-type {\n",
       "        vertical-align: middle;\n",
       "    }\n",
       "\n",
       "    .dataframe tbody tr th {\n",
       "        vertical-align: top;\n",
       "    }\n",
       "\n",
       "    .dataframe thead th {\n",
       "        text-align: right;\n",
       "    }\n",
       "</style>\n",
       "<table border=\"1\" class=\"dataframe\">\n",
       "  <thead>\n",
       "    <tr style=\"text-align: right;\">\n",
       "      <th></th>\n",
       "      <th>mean</th>\n",
       "      <th>sd</th>\n",
       "      <th>hdi_3%</th>\n",
       "      <th>hdi_97%</th>\n",
       "    </tr>\n",
       "  </thead>\n",
       "  <tbody>\n",
       "    <tr>\n",
       "      <th>mu</th>\n",
       "      <td>12.54</td>\n",
       "      <td>2.51</td>\n",
       "      <td>7.88</td>\n",
       "      <td>17.27</td>\n",
       "    </tr>\n",
       "    <tr>\n",
       "      <th>sigma</th>\n",
       "      <td>0.48</td>\n",
       "      <td>0.34</td>\n",
       "      <td>0.00</td>\n",
       "      <td>1.10</td>\n",
       "    </tr>\n",
       "  </tbody>\n",
       "</table>\n",
       "</div>"
      ],
      "text/plain": [
       "        mean    sd  hdi_3%  hdi_97%\n",
       "mu     12.54  2.51    7.88    17.27\n",
       "sigma   0.48  0.34    0.00     1.10"
      ]
     },
     "execution_count": 9,
     "metadata": {},
     "output_type": "execute_result"
    }
   ],
   "source": [
    "mu_sim=samp_model1.stan_variable('mu')\n",
    "sigma_sim=samp_model1.stan_variable('sigma')\n",
    "alcohol=samp_model1.stan_variable('alcohol')\n",
    "az.summary(samp_model1,var_names=['mu','sigma'],round_to=2,kind='stats')"
   ]
  },
  {
   "cell_type": "markdown",
   "metadata": {},
   "source": [
    "Having generated samples from prior model we can print them alongside with out data, to see weather we choose\\\n",
    "good parameters for values. On the chart below generated samples are compared to real data (red dots)\\\n",
    "From the plot we can assume that the prior was chosen properly and we can go to next step of analysis."
   ]
  },
  {
   "cell_type": "code",
   "execution_count": 10,
   "metadata": {},
   "outputs": [
    {
     "data": {
      "text/plain": [
       "Text(0.5, 1.0, '$\\\\sigma$')"
      ]
     },
     "execution_count": 10,
     "metadata": {},
     "output_type": "execute_result"
    },
    {
     "data": {
      "image/png": "[encoded data removed]",
      "text/plain": [
       "<Figure size 1008x720 with 3 Axes>"
      ]
     },
     "metadata": {
      "needs_background": "light"
     },
     "output_type": "display_data"
    }
   ],
   "source": [
    "fig = plt.figure(figsize=(14,10))\n",
    "gs = fig.add_gridspec(2,2)\n",
    "ax1 = fig.add_subplot(gs[1, :])\n",
    "ax1.hist(alcohol,bins=20,color='0.75',edgecolor='k',density=True)\n",
    "ax1.vlines([0,25],ymin=0,ymax=15e-2,linestyle='--',color='r',zorder=1)\n",
    "ax1.set_yticks([])\n",
    "ax1.set_title('Simulated alcohol consumption (L per person)')\n",
    "ax1.plot(data_values,zeros,color='r',markeredgecolor='k',markersize=20,marker='.',zorder=2,label='Data')\n",
    "\n",
    "ax2 = fig.add_subplot(gs[0, 0])\n",
    "ax3 = fig.add_subplot(gs[0, 1])\n",
    "ax2.set_yticks([])\n",
    "ax2.hist(mu_sim,bins=20,color='0.75',edgecolor='k',density=True)\n",
    "x=np.linspace(0,25)\n",
    "y=stats.norm.pdf(x,loc=12.5,scale=2.5)\n",
    "ax2.plot(x,y,'r')\n",
    "ax2.set_title('$\\mu$')\n",
    "ax2.set_yticks([])\n",
    "ax3.set_yticks([])\n",
    "\n",
    "ax3.hist(sigma_sim,bins=20,color='0.75',edgecolor='k',density=True)\n",
    "x=np.linspace(0,5)\n",
    "y=stats.halfnorm.pdf(x,loc=0,scale=0.6)\n",
    "ax3.plot(x,y,'r')\n",
    "ax3.set_title('$\\sigma$')\n"
   ]
  },
  {
   "cell_type": "markdown",
   "metadata": {},
   "source": [
    "### POSTERIOR - normal model"
   ]
  },
  {
   "cell_type": "code",
   "execution_count": 11,
   "metadata": {},
   "outputs": [
    {
     "name": "stderr",
     "output_type": "stream",
     "text": [
      "INFO:cmdstanpy:found newer exe file, not recompiling\n"
     ]
    }
   ],
   "source": [
    "fit_normal = CmdStanModel(stan_file='normal_post.stan')"
   ]
  },
  {
   "cell_type": "code",
   "execution_count": 12,
   "metadata": {},
   "outputs": [
    {
     "name": "stdout",
     "output_type": "stream",
     "text": [
      "data {\n",
      "    int N;\n",
      "    real alcohol_val[N];\n",
      "}\n",
      "parameters {\n",
      "    real<lower=0> mu;\n",
      "    real<lower=0> sigma;\n",
      "}\n",
      "\n",
      "model {\n",
      "    mu ~ normal(12.5,2.5);\n",
      "    sigma ~ normal(0,0.6);\n",
      "    alcohol_val[N] ~ normal(mu,sigma); \n",
      "    for(i in 1:N)\n",
      "    target += normal_lpdf(alcohol_val[i] | mu, sigma);\n",
      "}\n",
      "generated quantities {\n",
      "    real alcohol[N];\n",
      "    vector[N] log_lik;\n",
      "    for (i in 1:N){\n",
      "    alcohol[i] =  normal_rng(mu, sigma);\n",
      "    log_lik[i] =  normal_lpdf(alcohol_val[i]| mu, sigma);\n",
      "}}\n"
     ]
    }
   ],
   "source": [
    "with open('normal_post.stan','r') as file:\n",
    "    print(file.read())"
   ]
  },
  {
   "cell_type": "code",
   "execution_count": 13,
   "metadata": {},
   "outputs": [
    {
     "name": "stderr",
     "output_type": "stream",
     "text": [
      "INFO:cmdstanpy:CmdStan start processing\n",
      "chain 1 |\u001b[33m          \u001b[0m| 00:00 Status\n",
      "\u001b[A\n",
      "\n",
      "chain 1 |\u001b[34m██████▎   \u001b[0m| 00:00 Iteration: 1100 / 2000 [ 55%]  (Sampling)\n",
      "\u001b[A\n",
      "\n",
      "chain 1 |\u001b[34m██████████\u001b[0m| 00:00 Sampling completed                       \n",
      "chain 2 |\u001b[34m██████████\u001b[0m| 00:00 Sampling completed                       \n",
      "chain 3 |\u001b[34m██████████\u001b[0m| 00:00 Sampling completed                       \n",
      "chain 4 |\u001b[34m██████████\u001b[0m| 00:00 Sampling completed                       "
     ]
    },
    {
     "name": "stdout",
     "output_type": "stream",
     "text": [
      "                                                                                                                                                                                                                                                                                                                                "
     ]
    },
    {
     "name": "stderr",
     "output_type": "stream",
     "text": [
      "\n",
      "INFO:cmdstanpy:CmdStan done processing.\n"
     ]
    },
    {
     "name": "stdout",
     "output_type": "stream",
     "text": [
      "\n"
     ]
    }
   ],
   "source": [
    "data = dict(N=len(data_years), alcohol_val=data_values,)\n",
    "\n",
    "samp_model2 = fit_normal.sample(data=data,seed=29042020)\n",
    "mu_sim=samp_model2.stan_variable('mu')\n",
    "sigma_sim=samp_model2.stan_variable('sigma')\n",
    "alcohol_sim=samp_model2.stan_variable('alcohol')\n",
    "alcohol_sim_df=pd.DataFrame(samp_model2.stan_variable('alcohol'))"
   ]
  },
  {
   "cell_type": "markdown",
   "metadata": {},
   "source": [
    "Sampling data from model preceeds fast and witout any problems"
   ]
  },
  {
   "cell_type": "code",
   "execution_count": 14,
   "metadata": {},
   "outputs": [
    {
     "data": {
      "text/plain": [
       "'Processing csv files: C:\\\\Users\\\\mjszo\\\\AppData\\\\Local\\\\Temp\\\\tmpf2cx7fnf\\\\normal_post-20220619235103_1.csv, C:\\\\Users\\\\mjszo\\\\AppData\\\\Local\\\\Temp\\\\tmpf2cx7fnf\\\\normal_post-20220619235103_2.csv, C:\\\\Users\\\\mjszo\\\\AppData\\\\Local\\\\Temp\\\\tmpf2cx7fnf\\\\normal_post-20220619235103_3.csv, C:\\\\Users\\\\mjszo\\\\AppData\\\\Local\\\\Temp\\\\tmpf2cx7fnf\\\\normal_post-20220619235103_4.csv\\n\\nChecking sampler transitions treedepth.\\nTreedepth satisfactory for all transitions.\\n\\nChecking sampler transitions for divergences.\\nNo divergent transitions found.\\n\\nChecking E-BFMI - sampler transitions HMC potential energy.\\nE-BFMI satisfactory.\\n\\nEffective sample size satisfactory.\\n\\nSplit R-hat values satisfactory all parameters.\\n\\nProcessing complete, no problems detected.\\n'"
      ]
     },
     "execution_count": 14,
     "metadata": {},
     "output_type": "execute_result"
    }
   ],
   "source": [
    "samp_model2.diagnose()"
   ]
  },
  {
   "cell_type": "markdown",
   "metadata": {},
   "source": [
    "Diagnose function was has been called. The output of this test, points that model and parameters were chosen properly.\\\n",
    "No divergences occures during samplig, the size of effective samples are good and the R-hat values are satisfactory for all parameter"
   ]
  },
  {
   "cell_type": "code",
   "execution_count": 15,
   "metadata": {},
   "outputs": [
    {
     "data": {
      "text/plain": [
       "[]"
      ]
     },
     "execution_count": 15,
     "metadata": {},
     "output_type": "execute_result"
    },
    {
     "data": {
      "image/png": "[encoded data removed]",
      "text/plain": [
       "<Figure size 1512x360 with 3 Axes>"
      ]
     },
     "metadata": {
      "needs_background": "light"
     },
     "output_type": "display_data"
    }
   ],
   "source": [
    "fig = plt.figure(figsize=(21,5))\n",
    "gs = fig.add_gridspec(1,3)\n",
    "\n",
    "ax1 = fig.add_subplot(gs[0, 0])\n",
    "ax2 = fig.add_subplot(gs[0, 1])\n",
    "ax3 = fig.add_subplot(gs[0, 2])\n",
    "\n",
    "ax1.hist(mu_sim,bins=20,color='0.75',edgecolor='k',density=True)\n",
    "ax1.set_title('$\\mu$')\n",
    "ax1.set_yticks([])\n",
    "\n",
    "ax2.hist(sigma_sim,bins=20,color='0.75',edgecolor='k',density=True)\n",
    "ax2.set_title('$\\sigma$')\n",
    "ax2.set_yticks([])\n",
    "\n",
    "ax3.hist(alcohol_sim_df,bins=20,density=True)\n",
    "ax3.set_title('alcohol')\n",
    "ax3.set_yticks([])"
   ]
  },
  {
   "cell_type": "markdown",
   "metadata": {},
   "source": [
    "The parameters of the posterior model are concentrated, as can be seen in the histograms of these parameters"
   ]
  },
  {
   "cell_type": "code",
   "execution_count": 16,
   "metadata": {},
   "outputs": [
    {
     "data": {
      "text/html": [
       "<div>\n",
       "<style scoped>\n",
       "    .dataframe tbody tr th:only-of-type {\n",
       "        vertical-align: middle;\n",
       "    }\n",
       "\n",
       "    .dataframe tbody tr th {\n",
       "        vertical-align: top;\n",
       "    }\n",
       "\n",
       "    .dataframe thead th {\n",
       "        text-align: right;\n",
       "    }\n",
       "</style>\n",
       "<table border=\"1\" class=\"dataframe\">\n",
       "  <thead>\n",
       "    <tr style=\"text-align: right;\">\n",
       "      <th></th>\n",
       "      <th>lp__</th>\n",
       "      <th>accept_stat__</th>\n",
       "      <th>stepsize__</th>\n",
       "      <th>treedepth__</th>\n",
       "      <th>n_leapfrog__</th>\n",
       "      <th>divergent__</th>\n",
       "      <th>energy__</th>\n",
       "      <th>mu</th>\n",
       "      <th>sigma</th>\n",
       "      <th>alcohol[1]</th>\n",
       "      <th>...</th>\n",
       "      <th>log_lik[10]</th>\n",
       "      <th>log_lik[11]</th>\n",
       "      <th>log_lik[12]</th>\n",
       "      <th>log_lik[13]</th>\n",
       "      <th>log_lik[14]</th>\n",
       "      <th>log_lik[15]</th>\n",
       "      <th>log_lik[16]</th>\n",
       "      <th>log_lik[17]</th>\n",
       "      <th>log_lik[18]</th>\n",
       "      <th>log_lik[19]</th>\n",
       "    </tr>\n",
       "  </thead>\n",
       "  <tbody>\n",
       "    <tr>\n",
       "      <th>0</th>\n",
       "      <td>-44.2736</td>\n",
       "      <td>1.000000</td>\n",
       "      <td>0.881645</td>\n",
       "      <td>2.0</td>\n",
       "      <td>3.0</td>\n",
       "      <td>0.0</td>\n",
       "      <td>44.7093</td>\n",
       "      <td>13.4906</td>\n",
       "      <td>1.98578</td>\n",
       "      <td>15.0408</td>\n",
       "      <td>...</td>\n",
       "      <td>-2.62005</td>\n",
       "      <td>-1.95834</td>\n",
       "      <td>-1.66522</td>\n",
       "      <td>-1.60676</td>\n",
       "      <td>-1.62621</td>\n",
       "      <td>-1.60620</td>\n",
       "      <td>-1.60558</td>\n",
       "      <td>-1.66897</td>\n",
       "      <td>-2.17512</td>\n",
       "      <td>-3.10590</td>\n",
       "    </tr>\n",
       "    <tr>\n",
       "      <th>1</th>\n",
       "      <td>-45.3979</td>\n",
       "      <td>0.898533</td>\n",
       "      <td>0.881645</td>\n",
       "      <td>2.0</td>\n",
       "      <td>3.0</td>\n",
       "      <td>0.0</td>\n",
       "      <td>45.8031</td>\n",
       "      <td>12.9640</td>\n",
       "      <td>2.04997</td>\n",
       "      <td>13.2004</td>\n",
       "      <td>...</td>\n",
       "      <td>-2.97682</td>\n",
       "      <td>-2.21055</td>\n",
       "      <td>-1.81270</td>\n",
       "      <td>-1.68642</td>\n",
       "      <td>-1.74101</td>\n",
       "      <td>-1.68339</td>\n",
       "      <td>-1.66151</td>\n",
       "      <td>-1.64079</td>\n",
       "      <td>-1.93907</td>\n",
       "      <td>-2.64706</td>\n",
       "    </tr>\n",
       "    <tr>\n",
       "      <th>2</th>\n",
       "      <td>-45.7694</td>\n",
       "      <td>0.988626</td>\n",
       "      <td>0.881645</td>\n",
       "      <td>2.0</td>\n",
       "      <td>3.0</td>\n",
       "      <td>0.0</td>\n",
       "      <td>45.9421</td>\n",
       "      <td>12.7908</td>\n",
       "      <td>1.98759</td>\n",
       "      <td>13.4727</td>\n",
       "      <td>...</td>\n",
       "      <td>-3.18224</td>\n",
       "      <td>-2.31627</td>\n",
       "      <td>-1.85011</td>\n",
       "      <td>-1.69079</td>\n",
       "      <td>-1.76157</td>\n",
       "      <td>-1.68670</td>\n",
       "      <td>-1.65597</td>\n",
       "      <td>-1.60588</td>\n",
       "      <td>-1.86137</td>\n",
       "      <td>-2.55664</td>\n",
       "    </tr>\n",
       "    <tr>\n",
       "      <th>3</th>\n",
       "      <td>-45.8233</td>\n",
       "      <td>0.912742</td>\n",
       "      <td>0.881645</td>\n",
       "      <td>2.0</td>\n",
       "      <td>3.0</td>\n",
       "      <td>0.0</td>\n",
       "      <td>47.3030</td>\n",
       "      <td>13.4276</td>\n",
       "      <td>2.24910</td>\n",
       "      <td>13.2384</td>\n",
       "      <td>...</td>\n",
       "      <td>-2.55637</td>\n",
       "      <td>-2.02611</td>\n",
       "      <td>-1.78542</td>\n",
       "      <td>-1.73276</td>\n",
       "      <td>-1.75152</td>\n",
       "      <td>-1.73208</td>\n",
       "      <td>-1.72948</td>\n",
       "      <td>-1.77093</td>\n",
       "      <td>-2.14797</td>\n",
       "      <td>-2.85713</td>\n",
       "    </tr>\n",
       "    <tr>\n",
       "      <th>4</th>\n",
       "      <td>-44.3392</td>\n",
       "      <td>0.783335</td>\n",
       "      <td>0.881645</td>\n",
       "      <td>1.0</td>\n",
       "      <td>3.0</td>\n",
       "      <td>0.0</td>\n",
       "      <td>49.4975</td>\n",
       "      <td>13.6860</td>\n",
       "      <td>1.56404</td>\n",
       "      <td>13.1139</td>\n",
       "      <td>...</td>\n",
       "      <td>-2.78427</td>\n",
       "      <td>-1.81028</td>\n",
       "      <td>-1.41608</td>\n",
       "      <td>-1.36739</td>\n",
       "      <td>-1.37557</td>\n",
       "      <td>-1.36810</td>\n",
       "      <td>-1.38068</td>\n",
       "      <td>-1.53400</td>\n",
       "      <td>-2.46260</td>\n",
       "      <td>-4.06849</td>\n",
       "    </tr>\n",
       "  </tbody>\n",
       "</table>\n",
       "<p>5 rows × 47 columns</p>\n",
       "</div>"
      ],
      "text/plain": [
       "      lp__  accept_stat__  stepsize__  treedepth__  n_leapfrog__  divergent__  \\\n",
       "0 -44.2736       1.000000    0.881645          2.0           3.0          0.0   \n",
       "1 -45.3979       0.898533    0.881645          2.0           3.0          0.0   \n",
       "2 -45.7694       0.988626    0.881645          2.0           3.0          0.0   \n",
       "3 -45.8233       0.912742    0.881645          2.0           3.0          0.0   \n",
       "4 -44.3392       0.783335    0.881645          1.0           3.0          0.0   \n",
       "\n",
       "   energy__       mu    sigma  alcohol[1]  ...  log_lik[10]  log_lik[11]  \\\n",
       "0   44.7093  13.4906  1.98578     15.0408  ...     -2.62005     -1.95834   \n",
       "1   45.8031  12.9640  2.04997     13.2004  ...     -2.97682     -2.21055   \n",
       "2   45.9421  12.7908  1.98759     13.4727  ...     -3.18224     -2.31627   \n",
       "3   47.3030  13.4276  2.24910     13.2384  ...     -2.55637     -2.02611   \n",
       "4   49.4975  13.6860  1.56404     13.1139  ...     -2.78427     -1.81028   \n",
       "\n",
       "   log_lik[12]  log_lik[13]  log_lik[14]  log_lik[15]  log_lik[16]  \\\n",
       "0     -1.66522     -1.60676     -1.62621     -1.60620     -1.60558   \n",
       "1     -1.81270     -1.68642     -1.74101     -1.68339     -1.66151   \n",
       "2     -1.85011     -1.69079     -1.76157     -1.68670     -1.65597   \n",
       "3     -1.78542     -1.73276     -1.75152     -1.73208     -1.72948   \n",
       "4     -1.41608     -1.36739     -1.37557     -1.36810     -1.38068   \n",
       "\n",
       "   log_lik[17]  log_lik[18]  log_lik[19]  \n",
       "0     -1.66897     -2.17512     -3.10590  \n",
       "1     -1.64079     -1.93907     -2.64706  \n",
       "2     -1.60588     -1.86137     -2.55664  \n",
       "3     -1.77093     -2.14797     -2.85713  \n",
       "4     -1.53400     -2.46260     -4.06849  \n",
       "\n",
       "[5 rows x 47 columns]"
      ]
     },
     "execution_count": 16,
     "metadata": {},
     "output_type": "execute_result"
    }
   ],
   "source": [
    "df=samp_model2.draws_pd()\n",
    "df.head()"
   ]
  },
  {
   "cell_type": "code",
   "execution_count": 17,
   "metadata": {},
   "outputs": [
    {
     "data": {
      "text/html": [
       "<div>\n",
       "<style scoped>\n",
       "    .dataframe tbody tr th:only-of-type {\n",
       "        vertical-align: middle;\n",
       "    }\n",
       "\n",
       "    .dataframe tbody tr th {\n",
       "        vertical-align: top;\n",
       "    }\n",
       "\n",
       "    .dataframe thead th {\n",
       "        text-align: right;\n",
       "    }\n",
       "</style>\n",
       "<table border=\"1\" class=\"dataframe\">\n",
       "  <thead>\n",
       "    <tr style=\"text-align: right;\">\n",
       "      <th></th>\n",
       "      <th>mean</th>\n",
       "      <th>sd</th>\n",
       "      <th>hdi_3%</th>\n",
       "      <th>hdi_97%</th>\n",
       "    </tr>\n",
       "  </thead>\n",
       "  <tbody>\n",
       "    <tr>\n",
       "      <th>mu</th>\n",
       "      <td>13.55</td>\n",
       "      <td>0.41</td>\n",
       "      <td>12.78</td>\n",
       "      <td>14.30</td>\n",
       "    </tr>\n",
       "    <tr>\n",
       "      <th>sigma</th>\n",
       "      <td>1.81</td>\n",
       "      <td>0.21</td>\n",
       "      <td>1.44</td>\n",
       "      <td>2.24</td>\n",
       "    </tr>\n",
       "    <tr>\n",
       "      <th>alcohol[0]</th>\n",
       "      <td>13.55</td>\n",
       "      <td>1.94</td>\n",
       "      <td>10.07</td>\n",
       "      <td>17.35</td>\n",
       "    </tr>\n",
       "    <tr>\n",
       "      <th>alcohol[1]</th>\n",
       "      <td>13.58</td>\n",
       "      <td>1.85</td>\n",
       "      <td>10.27</td>\n",
       "      <td>17.32</td>\n",
       "    </tr>\n",
       "    <tr>\n",
       "      <th>alcohol[2]</th>\n",
       "      <td>13.55</td>\n",
       "      <td>1.83</td>\n",
       "      <td>10.15</td>\n",
       "      <td>17.02</td>\n",
       "    </tr>\n",
       "    <tr>\n",
       "      <th>alcohol[3]</th>\n",
       "      <td>13.53</td>\n",
       "      <td>1.87</td>\n",
       "      <td>10.23</td>\n",
       "      <td>17.27</td>\n",
       "    </tr>\n",
       "    <tr>\n",
       "      <th>alcohol[4]</th>\n",
       "      <td>13.54</td>\n",
       "      <td>1.86</td>\n",
       "      <td>10.26</td>\n",
       "      <td>17.17</td>\n",
       "    </tr>\n",
       "    <tr>\n",
       "      <th>alcohol[5]</th>\n",
       "      <td>13.55</td>\n",
       "      <td>1.89</td>\n",
       "      <td>10.11</td>\n",
       "      <td>17.14</td>\n",
       "    </tr>\n",
       "    <tr>\n",
       "      <th>alcohol[6]</th>\n",
       "      <td>13.52</td>\n",
       "      <td>1.86</td>\n",
       "      <td>10.04</td>\n",
       "      <td>16.96</td>\n",
       "    </tr>\n",
       "    <tr>\n",
       "      <th>alcohol[7]</th>\n",
       "      <td>13.55</td>\n",
       "      <td>1.86</td>\n",
       "      <td>9.94</td>\n",
       "      <td>16.95</td>\n",
       "    </tr>\n",
       "    <tr>\n",
       "      <th>alcohol[8]</th>\n",
       "      <td>13.53</td>\n",
       "      <td>1.86</td>\n",
       "      <td>9.84</td>\n",
       "      <td>16.85</td>\n",
       "    </tr>\n",
       "    <tr>\n",
       "      <th>alcohol[9]</th>\n",
       "      <td>13.56</td>\n",
       "      <td>1.89</td>\n",
       "      <td>10.14</td>\n",
       "      <td>17.24</td>\n",
       "    </tr>\n",
       "    <tr>\n",
       "      <th>alcohol[10]</th>\n",
       "      <td>13.57</td>\n",
       "      <td>1.89</td>\n",
       "      <td>10.06</td>\n",
       "      <td>17.25</td>\n",
       "    </tr>\n",
       "    <tr>\n",
       "      <th>alcohol[11]</th>\n",
       "      <td>13.60</td>\n",
       "      <td>1.86</td>\n",
       "      <td>10.01</td>\n",
       "      <td>16.97</td>\n",
       "    </tr>\n",
       "    <tr>\n",
       "      <th>alcohol[12]</th>\n",
       "      <td>13.53</td>\n",
       "      <td>1.89</td>\n",
       "      <td>9.98</td>\n",
       "      <td>17.12</td>\n",
       "    </tr>\n",
       "    <tr>\n",
       "      <th>alcohol[13]</th>\n",
       "      <td>13.61</td>\n",
       "      <td>1.83</td>\n",
       "      <td>10.07</td>\n",
       "      <td>16.82</td>\n",
       "    </tr>\n",
       "    <tr>\n",
       "      <th>alcohol[14]</th>\n",
       "      <td>13.54</td>\n",
       "      <td>1.86</td>\n",
       "      <td>9.83</td>\n",
       "      <td>16.80</td>\n",
       "    </tr>\n",
       "    <tr>\n",
       "      <th>alcohol[15]</th>\n",
       "      <td>13.49</td>\n",
       "      <td>1.87</td>\n",
       "      <td>9.90</td>\n",
       "      <td>17.01</td>\n",
       "    </tr>\n",
       "    <tr>\n",
       "      <th>alcohol[16]</th>\n",
       "      <td>13.57</td>\n",
       "      <td>1.85</td>\n",
       "      <td>9.96</td>\n",
       "      <td>16.92</td>\n",
       "    </tr>\n",
       "    <tr>\n",
       "      <th>alcohol[17]</th>\n",
       "      <td>13.58</td>\n",
       "      <td>1.89</td>\n",
       "      <td>10.09</td>\n",
       "      <td>17.16</td>\n",
       "    </tr>\n",
       "    <tr>\n",
       "      <th>alcohol[18]</th>\n",
       "      <td>13.53</td>\n",
       "      <td>1.86</td>\n",
       "      <td>10.02</td>\n",
       "      <td>16.98</td>\n",
       "    </tr>\n",
       "  </tbody>\n",
       "</table>\n",
       "</div>"
      ],
      "text/plain": [
       "              mean    sd  hdi_3%  hdi_97%\n",
       "mu           13.55  0.41   12.78    14.30\n",
       "sigma         1.81  0.21    1.44     2.24\n",
       "alcohol[0]   13.55  1.94   10.07    17.35\n",
       "alcohol[1]   13.58  1.85   10.27    17.32\n",
       "alcohol[2]   13.55  1.83   10.15    17.02\n",
       "alcohol[3]   13.53  1.87   10.23    17.27\n",
       "alcohol[4]   13.54  1.86   10.26    17.17\n",
       "alcohol[5]   13.55  1.89   10.11    17.14\n",
       "alcohol[6]   13.52  1.86   10.04    16.96\n",
       "alcohol[7]   13.55  1.86    9.94    16.95\n",
       "alcohol[8]   13.53  1.86    9.84    16.85\n",
       "alcohol[9]   13.56  1.89   10.14    17.24\n",
       "alcohol[10]  13.57  1.89   10.06    17.25\n",
       "alcohol[11]  13.60  1.86   10.01    16.97\n",
       "alcohol[12]  13.53  1.89    9.98    17.12\n",
       "alcohol[13]  13.61  1.83   10.07    16.82\n",
       "alcohol[14]  13.54  1.86    9.83    16.80\n",
       "alcohol[15]  13.49  1.87    9.90    17.01\n",
       "alcohol[16]  13.57  1.85    9.96    16.92\n",
       "alcohol[17]  13.58  1.89   10.09    17.16\n",
       "alcohol[18]  13.53  1.86   10.02    16.98"
      ]
     },
     "execution_count": 17,
     "metadata": {},
     "output_type": "execute_result"
    }
   ],
   "source": [
    "az.summary(samp_model2,var_names=['mu','sigma','alcohol'],round_to=2,kind='stats')"
   ]
  },
  {
   "cell_type": "markdown",
   "metadata": {},
   "source": [
    "Using our model we can try to predict average alcohol consumption for following year and compare it to external data for 2017, that is 11.19 litre pre person.\\\n",
    "As you can see below, our model overestimated the value for more than 2 liters, which is not a good result. The good news is that the predicted value is within the confidence interval."
   ]
  },
  {
   "cell_type": "code",
   "execution_count": 18,
   "metadata": {},
   "outputs": [
    {
     "name": "stdout",
     "output_type": "stream",
     "text": [
      "Median fo predicted consumption = 13.554549999999999\n",
      "Confidence interval (90%) = [ 10.4727 16.6059 ]\n"
     ]
    }
   ],
   "source": [
    "median_alcohol = np.median(alcohol_sim.flatten())\n",
    "cinf_alcohol_sim = az.hdi(alcohol_sim.flatten(),0.90)\n",
    "print('Median fo predicted consumption =', median_alcohol)\n",
    "print('Confidence interval (90%) = [',*cinf_alcohol_sim,']' )"
   ]
  },
  {
   "cell_type": "markdown",
   "metadata": {},
   "source": [
    "To graphically represent the results, the plot_posterior function from the arviz library was used"
   ]
  },
  {
   "cell_type": "code",
   "execution_count": 19,
   "metadata": {},
   "outputs": [
    {
     "name": "stderr",
     "output_type": "stream",
     "text": [
      "p:\\Users\\mjszo\\anaconda3\\envs\\data\\lib\\site-packages\\arviz\\data\\base.py:216: UserWarning: More chains (4000) than draws (19). Passed array should have shape (chains, draws, *shape)\n",
      "  warnings.warn(\n",
      "p:\\Users\\mjszo\\anaconda3\\envs\\data\\lib\\site-packages\\arviz\\data\\base.py:216: UserWarning: More chains (4000) than draws (19). Passed array should have shape (chains, draws, *shape)\n",
      "  warnings.warn(\n"
     ]
    },
    {
     "data": {
      "text/plain": [
       "[]"
      ]
     },
     "execution_count": 19,
     "metadata": {},
     "output_type": "execute_result"
    },
    {
     "data": {
      "image/png": "[encoded data removed]",
      "text/plain": [
       "<Figure size 432x288 with 1 Axes>"
      ]
     },
     "metadata": {
      "needs_background": "light"
     },
     "output_type": "display_data"
    },
    {
     "data": {
      "image/png": "[encoded data removed]",
      "text/plain": [
       "<Figure size 432x288 with 1 Axes>"
      ]
     },
     "metadata": {
      "needs_background": "light"
     },
     "output_type": "display_data"
    }
   ],
   "source": [
    "ax1 = az.plot_posterior(alcohol_sim,round_to=2,kind='hist', bins=100,ref_val=DATA_2017)\n",
    "ax1.set_title('Estimation and reference value')\n",
    "ax1.set_yticks([])\n",
    "ax1.set_yticks([])\n",
    "ax2 = az.plot_posterior(alcohol_sim,round_to=2,kind='kde', bins=100,ref_val=DATA_2017)\n",
    "ax2.set_title('Estimation and reference value')\n",
    "ax2.set_yticks([])\n",
    "ax2.set_yticks([])"
   ]
  },
  {
   "cell_type": "markdown",
   "metadata": {},
   "source": [
    "### Quadratic regression model"
   ]
  },
  {
   "cell_type": "markdown",
   "metadata": {},
   "source": [
    "The next model used for our project is model quadratic regression model"
   ]
  },
  {
   "cell_type": "code",
   "execution_count": 20,
   "metadata": {},
   "outputs": [
    {
     "data": {
      "text/plain": [
       "Text(0.5, 1.0, 'GDP [$]')"
      ]
     },
     "execution_count": 20,
     "metadata": {},
     "output_type": "execute_result"
    },
    {
     "data": {
      "image/png": "[encoded data removed]",
      "text/plain": [
       "<Figure size 1008x360 with 1 Axes>"
      ]
     },
     "metadata": {
      "needs_background": "light"
     },
     "output_type": "display_data"
    }
   ],
   "source": [
    "fig = plt.figure(figsize=(14,5))\n",
    "plt.grid(True)\n",
    "plt.grid\n",
    "plt.plot(data_years,data_gdp,color='0.75')\n",
    "plt.plot(data_years,data_values,color='k')\n",
    "plt.xlabel('Year')\n",
    "plt.ylabel('Liters')\n",
    "plt.title('GDP [$]')\n"
   ]
  },
  {
   "cell_type": "code",
   "execution_count": 21,
   "metadata": {},
   "outputs": [
    {
     "name": "stdout",
     "output_type": "stream",
     "text": [
      "data {\n",
      "    int N;\n",
      "    real gdp[N];\n",
      "}\n",
      "\n",
      "generated quantities {\n",
      "   real alpha = normal_rng(12.5,2.5);\n",
      "   real beta = fabs(normal_rng(0,1.1));\n",
      "   real beta2 = -fabs(normal_rng(0,1.3));\n",
      "   real sigma = fabs(normal_rng(0,0.6));\n",
      "   real alcohol[N];\n",
      "   for (i in 1:N){\n",
      "   alcohol[i] =  normal_rng(gdp[i]*beta+gdp[i]^2*beta2+alpha, sigma);\n",
      "}}\n",
      "\n"
     ]
    }
   ],
   "source": [
    "with open('regre_pre.stan','r') as file:\n",
    "    print(file.read())"
   ]
  },
  {
   "cell_type": "markdown",
   "metadata": {},
   "source": [
    "An additional \"minus\" sign was added for the beta2 semi-normal distribution. We want the coefficient \"a\" of the quadratic equation to be negative and the function to have its maximum"
   ]
  },
  {
   "cell_type": "code",
   "execution_count": 22,
   "metadata": {},
   "outputs": [
    {
     "name": "stderr",
     "output_type": "stream",
     "text": [
      "INFO:cmdstanpy:found newer exe file, not recompiling\n"
     ]
    }
   ],
   "source": [
    "model_regre = CmdStanModel(stan_file='regre_pre.stan')"
   ]
  },
  {
   "cell_type": "markdown",
   "metadata": {},
   "source": [
    "Some data standarization"
   ]
  },
  {
   "cell_type": "code",
   "execution_count": 23,
   "metadata": {},
   "outputs": [],
   "source": [
    "c_gdp=data_gdp-data_gdp.mean()\n",
    "s_gdp=c_gdp/data_gdp.std()"
   ]
  },
  {
   "cell_type": "code",
   "execution_count": 24,
   "metadata": {},
   "outputs": [
    {
     "name": "stderr",
     "output_type": "stream",
     "text": [
      "INFO:cmdstanpy:CmdStan start processing\n",
      "chain 1 |\u001b[34m██████████\u001b[0m| 00:00 Sampling completed                      "
     ]
    },
    {
     "name": "stdout",
     "output_type": "stream",
     "text": [
      "                                                                                "
     ]
    },
    {
     "name": "stderr",
     "output_type": "stream",
     "text": [
      "\n",
      "INFO:cmdstanpy:CmdStan done processing.\n"
     ]
    },
    {
     "name": "stdout",
     "output_type": "stream",
     "text": [
      "\n"
     ]
    }
   ],
   "source": [
    "data_ppc={'N':50, 'gdp':np.linspace(-2,2)}\n",
    "samp_model3 = model_regre.sample(data=data_ppc,iter_sampling=1000, iter_warmup=0, chains=1, fixed_param=True, seed=22042020,refresh=1000)"
   ]
  },
  {
   "cell_type": "code",
   "execution_count": 25,
   "metadata": {},
   "outputs": [],
   "source": [
    "alpha_sim=samp_model3.stan_variable('alpha')\n",
    "beta_sim=samp_model3.stan_variable('beta')\n",
    "beta2_sim=samp_model3.stan_variable('beta2')\n",
    "sigma_sim=samp_model3.stan_variable('sigma')\n",
    "alcohol=samp_model3.stan_variable('alcohol')\n"
   ]
  },
  {
   "cell_type": "markdown",
   "metadata": {},
   "source": [
    "The points reprezenting alcohol consumption as a function of GPD was plotted alongside samples generated from prior model. As can it be\\\n",
    "seen quadratic model is better then liner one and in some way fits the data. ( excluding data corresponding to the financial crisis around 2008 )"
   ]
  },
  {
   "cell_type": "code",
   "execution_count": 26,
   "metadata": {},
   "outputs": [
    {
     "data": {
      "text/plain": [
       "<matplotlib.collections.PathCollection at 0x2547076cc40>"
      ]
     },
     "execution_count": 26,
     "metadata": {},
     "output_type": "execute_result"
    },
    {
     "data": {
      "image/png": "[encoded data removed]",
      "text/plain": [
       "<Figure size 1008x360 with 1 Axes>"
      ]
     },
     "metadata": {
      "needs_background": "light"
     },
     "output_type": "display_data"
    }
   ],
   "source": [
    "fig, axes = plt.subplots(1,1,figsize=(14,5))\n",
    "axes.hlines([0,25],xmin=0,xmax=20000,linestyle='--',color='r')\n",
    "for i in range(100):\n",
    "    axes.plot(data_gdp,alpha_sim[i]+beta_sim[i]*s_gdp+beta2_sim[i]*s_gdp*s_gdp,c='0.75')\n",
    "axes.set_ylabel('consumption [L]')\n",
    "axes.set_xlabel('GDP [$]')\n",
    "plt.scatter(data_gdp,data_values,zorder=10,c='r')"
   ]
  },
  {
   "cell_type": "markdown",
   "metadata": {},
   "source": [
    "The prepared model does not fully match the data but overall trend can be seen."
   ]
  },
  {
   "cell_type": "code",
   "execution_count": 27,
   "metadata": {},
   "outputs": [
    {
     "name": "stderr",
     "output_type": "stream",
     "text": [
      "C:\\Users\\mjszo\\AppData\\Local\\Temp\\ipykernel_24612\\4277549693.py:24: UserWarning: Matplotlib is currently using module://matplotlib_inline.backend_inline, which is a non-GUI backend, so cannot show the figure.\n",
      "  fig.show()\n"
     ]
    },
    {
     "data": {
      "image/png": "[encoded data removed]",
      "text/plain": [
       "<Figure size 1512x360 with 3 Axes>"
      ]
     },
     "metadata": {
      "needs_background": "light"
     },
     "output_type": "display_data"
    }
   ],
   "source": [
    "fig = plt.figure(figsize=(21,5))\n",
    "gs = fig.add_gridspec(1,3)\n",
    "\n",
    "ax1 = fig.add_subplot(gs[0, 0])\n",
    "ax2 = fig.add_subplot(gs[0, 1])\n",
    "ax3 = fig.add_subplot(gs[0, 2])\n",
    "\n",
    "ax1.hist(sigma_sim,bins=20,color='0.75',edgecolor='k',density=True)\n",
    "x=np.linspace(0,5)\n",
    "y=stats.halfnorm.pdf(x,loc=0,scale=0.6)\n",
    "ax1.plot(x,y,'r')\n",
    "ax1.set_title('$\\sigma$')\n",
    "ax1.set_yticks([])\n",
    "\n",
    "ax2.hist(beta_sim,bins=20,color='0.75',edgecolor='k',density=True)\n",
    "ax2.set_title('beta')\n",
    "ax2.set_yticks([])\n",
    "\n",
    "ax3.hist(beta2_sim,bins=20,color='0.75',edgecolor='k',density=True)\n",
    "ax3.set_title('beta_2')\n",
    "ax3.set_yticks([])\n",
    "\n",
    "\n",
    "fig.show()"
   ]
  },
  {
   "cell_type": "markdown",
   "metadata": {},
   "source": [
    "### POSTERIOR - quadratic model"
   ]
  },
  {
   "cell_type": "code",
   "execution_count": 28,
   "metadata": {},
   "outputs": [
    {
     "name": "stdout",
     "output_type": "stream",
     "text": [
      "data {\n",
      "    int N;\n",
      "    real gdp[N];\n",
      "    real alcohol_val[N];\n",
      "}\n",
      "parameters{\n",
      "    real alpha;\n",
      "    real<lower=0> beta;\n",
      "    real<upper=0> beta2;\n",
      "    real<lower=0> sigma;\n",
      "}\n",
      "\n",
      "transformed parameters {\n",
      "   vector[N] mu;\n",
      "   for (i in 1:N){\n",
      "    mu[i]=gdp[i]*beta+gdp[i]*gdp[i]*beta2+alpha;\n",
      "   }\n",
      "}\n",
      "\n",
      "model{\n",
      "    alpha ~ normal(12.5,2.5);\n",
      "    beta ~ normal(0,1.1);\n",
      "    beta2 ~ normal(0,1.3);\n",
      "    sigma ~ normal(0,0.6);\n",
      "    for (i in 1:N){\n",
      "    alcohol_val[i] ~ normal(mu[i],sigma); \n",
      "}}\n",
      "\n",
      "generated quantities {\n",
      "   real alcohol[N];\n",
      "   real log_lik[N];\n",
      "   for (i in 1:N){\n",
      "    alcohol[i] =  normal_rng(mu[i], sigma);\n",
      "    log_lik[i] =  normal_lpdf(alcohol_val[i]| mu[i], sigma);\n",
      "}\n",
      "}\n"
     ]
    }
   ],
   "source": [
    "with open('regre_post.stan','r') as file:\n",
    "    print(file.read())"
   ]
  },
  {
   "cell_type": "code",
   "execution_count": 29,
   "metadata": {},
   "outputs": [
    {
     "name": "stderr",
     "output_type": "stream",
     "text": [
      "INFO:cmdstanpy:found newer exe file, not recompiling\n"
     ]
    }
   ],
   "source": [
    "fit_regre = CmdStanModel(stan_file='regre_post.stan')"
   ]
  },
  {
   "cell_type": "code",
   "execution_count": 30,
   "metadata": {},
   "outputs": [
    {
     "name": "stderr",
     "output_type": "stream",
     "text": [
      "INFO:cmdstanpy:CmdStan start processing\n",
      "chain 1 |\u001b[33m          \u001b[0m| 00:00 Status\n",
      "\u001b[A\n",
      "\n",
      "chain 1 |\u001b[33m██▎       \u001b[0m| 00:00 Iteration:  300 / 2000 [ 15%]  (Warmup)\n",
      "\u001b[A\n",
      "\n",
      "\u001b[A\u001b[A\n",
      "chain 1 |\u001b[34m██████▊   \u001b[0m| 00:00 Iteration: 1200 / 2000 [ 60%]  (Sampling)\n",
      "\n",
      "\u001b[A\u001b[A\n",
      "\u001b[A\n",
      "\n",
      "chain 1 |\u001b[34m██████████\u001b[0m| 00:00 Sampling completed                       \n",
      "chain 2 |\u001b[34m██████████\u001b[0m| 00:00 Sampling completed                       \n",
      "chain 3 |\u001b[34m██████████\u001b[0m| 00:00 Sampling completed                       \n",
      "chain 4 |\u001b[34m██████████\u001b[0m| 00:00 Sampling completed                       "
     ]
    },
    {
     "name": "stdout",
     "output_type": "stream",
     "text": [
      "                                                                                                                                                                                                                                                                                                                                "
     ]
    },
    {
     "name": "stderr",
     "output_type": "stream",
     "text": [
      "\n",
      "INFO:cmdstanpy:CmdStan done processing.\n"
     ]
    },
    {
     "name": "stdout",
     "output_type": "stream",
     "text": [
      "\n"
     ]
    }
   ],
   "source": [
    "data = dict(N=len(data_years), gdp=s_gdp, alcohol_val=data_values)\n",
    "samp_model4 = fit_regre.sample(data=data,seed=29042020)\n",
    "alpha_sim=samp_model4.stan_variable('alpha')\n",
    "mu_sim=samp_model4.stan_variable('mu')\n",
    "mu_sim_df=pd.DataFrame(samp_model4.stan_variable('mu'))\n",
    "beta_sim=samp_model4.stan_variable('beta')\n",
    "beta2_sim=samp_model4.stan_variable('beta2')\n",
    "sigma_sim=samp_model4.stan_variable('sigma')\n",
    "alcohol_sim=samp_model4.stan_variable('alcohol')\n",
    "alcohol_sim_df=pd.DataFrame(samp_model4.stan_variable('alcohol'))"
   ]
  },
  {
   "cell_type": "markdown",
   "metadata": {},
   "source": [
    "Sampling data from model preceeds fast and witout any problems"
   ]
  },
  {
   "cell_type": "code",
   "execution_count": 31,
   "metadata": {},
   "outputs": [
    {
     "data": {
      "text/plain": [
       "'Processing csv files: C:\\\\Users\\\\mjszo\\\\AppData\\\\Local\\\\Temp\\\\tmpf2cx7fnf\\\\regre_post-20220619235154_1.csv, C:\\\\Users\\\\mjszo\\\\AppData\\\\Local\\\\Temp\\\\tmpf2cx7fnf\\\\regre_post-20220619235154_2.csv, C:\\\\Users\\\\mjszo\\\\AppData\\\\Local\\\\Temp\\\\tmpf2cx7fnf\\\\regre_post-20220619235154_3.csv, C:\\\\Users\\\\mjszo\\\\AppData\\\\Local\\\\Temp\\\\tmpf2cx7fnf\\\\regre_post-20220619235154_4.csv\\n\\nChecking sampler transitions treedepth.\\nTreedepth satisfactory for all transitions.\\n\\nChecking sampler transitions for divergences.\\nNo divergent transitions found.\\n\\nChecking E-BFMI - sampler transitions HMC potential energy.\\nE-BFMI satisfactory.\\n\\nEffective sample size satisfactory.\\n\\nSplit R-hat values satisfactory all parameters.\\n\\nProcessing complete, no problems detected.\\n'"
      ]
     },
     "execution_count": 31,
     "metadata": {},
     "output_type": "execute_result"
    }
   ],
   "source": [
    "samp_model4.diagnose()"
   ]
  },
  {
   "cell_type": "markdown",
   "metadata": {},
   "source": [
    "Diagnose function was has been called. The output of this test points, that model and parameters were chosen properly.\\\n",
    "No divergences occures during samplig, the size of effective samples are good and the R-hat values are satisfactory for all parameters"
   ]
  },
  {
   "cell_type": "code",
   "execution_count": 32,
   "metadata": {},
   "outputs": [
    {
     "data": {
      "text/plain": [
       "[]"
      ]
     },
     "execution_count": 32,
     "metadata": {},
     "output_type": "execute_result"
    },
    {
     "data": {
      "image/png": "[encoded data removed]",
      "text/plain": [
       "<Figure size 1512x720 with 5 Axes>"
      ]
     },
     "metadata": {
      "needs_background": "light"
     },
     "output_type": "display_data"
    }
   ],
   "source": [
    "fig = plt.figure(figsize=(21,10))\n",
    "gs = fig.add_gridspec(2,3)\n",
    "\n",
    "ax1 = fig.add_subplot(gs[0, 0])\n",
    "ax2 = fig.add_subplot(gs[0, 1])\n",
    "ax3 = fig.add_subplot(gs[0, 2])\n",
    "ax4 = fig.add_subplot(gs[1, 0])\n",
    "ax5 = fig.add_subplot(gs[1, 1])\n",
    "\n",
    "ax1.hist(beta2_sim,bins=20,color='0.75',edgecolor='k',density=True)\n",
    "ax1.set_title('beta2')\n",
    "ax1.set_yticks([])\n",
    "\n",
    "ax2.hist(beta_sim,bins=20,color='0.75',edgecolor='k',density=True)\n",
    "ax2.set_title('beta')\n",
    "ax2.set_yticks([])\n",
    "\n",
    "ax3.hist(sigma_sim,bins=20,color='0.75',edgecolor='k',density=True)\n",
    "ax3.set_title('$\\sigma$')\n",
    "ax3.set_yticks([])\n",
    "\n",
    "ax4.hist(alcohol_sim_df,bins=20,density=True)\n",
    "ax4.set_title('alcohol')\n",
    "ax4.set_yticks([])\n",
    "\n",
    "ax5.hist(mu_sim_df,bins=20,density=True)\n",
    "ax5.set_title('$\\mu$')\n",
    "ax5.set_yticks([])\n"
   ]
  },
  {
   "cell_type": "code",
   "execution_count": 33,
   "metadata": {},
   "outputs": [
    {
     "data": {
      "image/png": "[encoded data removed]",
      "text/plain": [
       "<Figure size 1512x1080 with 18 Axes>"
      ]
     },
     "metadata": {
      "needs_background": "light"
     },
     "output_type": "display_data"
    }
   ],
   "source": [
    "fig = plt.figure(figsize=(21,15))\n",
    "gs = fig.add_gridspec(4,7)\n",
    "ax=[18]\n",
    "\n",
    "for j in range(0,3):\n",
    "    for i in range(0,6):\n",
    "        ax.append(fig.add_subplot(gs[j, i]))\n",
    "\n",
    "m=1\n",
    "for j in range(0,3):\n",
    "    for i in range(0,6):\n",
    "            ax[m].hist(mu_sim_df[m],color='0.75',edgecolor='k',bins=20,density=True)\n",
    "            ax[m].set_title(f\"'$\\mu$' {m}\")\n",
    "            ax[m].set_yticks([])\n",
    "            ax[m].grid()\n",
    "            m=m+1"
   ]
  },
  {
   "cell_type": "markdown",
   "metadata": {},
   "source": [
    "The parameters of the posterior model are concentrated, as can be seen in the histograms of these parameters. Interestingly even thout"
   ]
  },
  {
   "cell_type": "code",
   "execution_count": 34,
   "metadata": {},
   "outputs": [
    {
     "data": {
      "text/html": [
       "<div>\n",
       "<style scoped>\n",
       "    .dataframe tbody tr th:only-of-type {\n",
       "        vertical-align: middle;\n",
       "    }\n",
       "\n",
       "    .dataframe tbody tr th {\n",
       "        vertical-align: top;\n",
       "    }\n",
       "\n",
       "    .dataframe thead th {\n",
       "        text-align: right;\n",
       "    }\n",
       "</style>\n",
       "<table border=\"1\" class=\"dataframe\">\n",
       "  <thead>\n",
       "    <tr style=\"text-align: right;\">\n",
       "      <th></th>\n",
       "      <th>lp__</th>\n",
       "      <th>accept_stat__</th>\n",
       "      <th>stepsize__</th>\n",
       "      <th>treedepth__</th>\n",
       "      <th>n_leapfrog__</th>\n",
       "      <th>divergent__</th>\n",
       "      <th>energy__</th>\n",
       "      <th>alpha</th>\n",
       "      <th>beta</th>\n",
       "      <th>beta2</th>\n",
       "      <th>...</th>\n",
       "      <th>log_lik[10]</th>\n",
       "      <th>log_lik[11]</th>\n",
       "      <th>log_lik[12]</th>\n",
       "      <th>log_lik[13]</th>\n",
       "      <th>log_lik[14]</th>\n",
       "      <th>log_lik[15]</th>\n",
       "      <th>log_lik[16]</th>\n",
       "      <th>log_lik[17]</th>\n",
       "      <th>log_lik[18]</th>\n",
       "      <th>log_lik[19]</th>\n",
       "    </tr>\n",
       "  </thead>\n",
       "  <tbody>\n",
       "    <tr>\n",
       "      <th>0</th>\n",
       "      <td>-27.5682</td>\n",
       "      <td>0.987629</td>\n",
       "      <td>0.24658</td>\n",
       "      <td>3.0</td>\n",
       "      <td>15.0</td>\n",
       "      <td>0.0</td>\n",
       "      <td>28.6963</td>\n",
       "      <td>13.9169</td>\n",
       "      <td>0.576382</td>\n",
       "      <td>-0.671262</td>\n",
       "      <td>...</td>\n",
       "      <td>-2.43389</td>\n",
       "      <td>-1.66940</td>\n",
       "      <td>-1.37958</td>\n",
       "      <td>-1.40669</td>\n",
       "      <td>-1.40961</td>\n",
       "      <td>-1.41041</td>\n",
       "      <td>-1.41268</td>\n",
       "      <td>-1.48508</td>\n",
       "      <td>-2.80399</td>\n",
       "      <td>-4.53003</td>\n",
       "    </tr>\n",
       "    <tr>\n",
       "      <th>1</th>\n",
       "      <td>-32.9704</td>\n",
       "      <td>0.694453</td>\n",
       "      <td>0.24658</td>\n",
       "      <td>3.0</td>\n",
       "      <td>7.0</td>\n",
       "      <td>0.0</td>\n",
       "      <td>35.6122</td>\n",
       "      <td>13.2021</td>\n",
       "      <td>0.548457</td>\n",
       "      <td>-0.568871</td>\n",
       "      <td>...</td>\n",
       "      <td>-3.47634</td>\n",
       "      <td>-2.14171</td>\n",
       "      <td>-1.47678</td>\n",
       "      <td>-1.29994</td>\n",
       "      <td>-1.51974</td>\n",
       "      <td>-1.49307</td>\n",
       "      <td>-1.48325</td>\n",
       "      <td>-1.28726</td>\n",
       "      <td>-2.20386</td>\n",
       "      <td>-3.82816</td>\n",
       "    </tr>\n",
       "    <tr>\n",
       "      <th>2</th>\n",
       "      <td>-34.3717</td>\n",
       "      <td>0.867192</td>\n",
       "      <td>0.24658</td>\n",
       "      <td>2.0</td>\n",
       "      <td>3.0</td>\n",
       "      <td>0.0</td>\n",
       "      <td>34.9635</td>\n",
       "      <td>13.2262</td>\n",
       "      <td>0.541847</td>\n",
       "      <td>-0.755630</td>\n",
       "      <td>...</td>\n",
       "      <td>-3.46971</td>\n",
       "      <td>-2.23789</td>\n",
       "      <td>-1.46859</td>\n",
       "      <td>-1.30612</td>\n",
       "      <td>-1.70168</td>\n",
       "      <td>-1.74672</td>\n",
       "      <td>-1.77959</td>\n",
       "      <td>-1.28351</td>\n",
       "      <td>-2.20666</td>\n",
       "      <td>-3.85661</td>\n",
       "    </tr>\n",
       "    <tr>\n",
       "      <th>3</th>\n",
       "      <td>-31.8030</td>\n",
       "      <td>0.698360</td>\n",
       "      <td>0.24658</td>\n",
       "      <td>3.0</td>\n",
       "      <td>11.0</td>\n",
       "      <td>0.0</td>\n",
       "      <td>36.5402</td>\n",
       "      <td>13.5493</td>\n",
       "      <td>0.461427</td>\n",
       "      <td>-0.827754</td>\n",
       "      <td>...</td>\n",
       "      <td>-3.08634</td>\n",
       "      <td>-2.04919</td>\n",
       "      <td>-1.35154</td>\n",
       "      <td>-1.27118</td>\n",
       "      <td>-1.64745</td>\n",
       "      <td>-1.73436</td>\n",
       "      <td>-1.79293</td>\n",
       "      <td>-1.26976</td>\n",
       "      <td>-2.51598</td>\n",
       "      <td>-4.41133</td>\n",
       "    </tr>\n",
       "    <tr>\n",
       "      <th>4</th>\n",
       "      <td>-28.7937</td>\n",
       "      <td>0.442640</td>\n",
       "      <td>0.24658</td>\n",
       "      <td>2.0</td>\n",
       "      <td>3.0</td>\n",
       "      <td>0.0</td>\n",
       "      <td>35.1194</td>\n",
       "      <td>13.9479</td>\n",
       "      <td>0.678093</td>\n",
       "      <td>-0.216703</td>\n",
       "      <td>...</td>\n",
       "      <td>-2.33085</td>\n",
       "      <td>-1.51709</td>\n",
       "      <td>-1.39277</td>\n",
       "      <td>-1.47719</td>\n",
       "      <td>-1.45287</td>\n",
       "      <td>-1.54374</td>\n",
       "      <td>-1.60688</td>\n",
       "      <td>-1.94253</td>\n",
       "      <td>-2.89269</td>\n",
       "      <td>-4.55033</td>\n",
       "    </tr>\n",
       "  </tbody>\n",
       "</table>\n",
       "<p>5 rows × 68 columns</p>\n",
       "</div>"
      ],
      "text/plain": [
       "      lp__  accept_stat__  stepsize__  treedepth__  n_leapfrog__  divergent__  \\\n",
       "0 -27.5682       0.987629     0.24658          3.0          15.0          0.0   \n",
       "1 -32.9704       0.694453     0.24658          3.0           7.0          0.0   \n",
       "2 -34.3717       0.867192     0.24658          2.0           3.0          0.0   \n",
       "3 -31.8030       0.698360     0.24658          3.0          11.0          0.0   \n",
       "4 -28.7937       0.442640     0.24658          2.0           3.0          0.0   \n",
       "\n",
       "   energy__    alpha      beta     beta2  ...  log_lik[10]  log_lik[11]  \\\n",
       "0   28.6963  13.9169  0.576382 -0.671262  ...     -2.43389     -1.66940   \n",
       "1   35.6122  13.2021  0.548457 -0.568871  ...     -3.47634     -2.14171   \n",
       "2   34.9635  13.2262  0.541847 -0.755630  ...     -3.46971     -2.23789   \n",
       "3   36.5402  13.5493  0.461427 -0.827754  ...     -3.08634     -2.04919   \n",
       "4   35.1194  13.9479  0.678093 -0.216703  ...     -2.33085     -1.51709   \n",
       "\n",
       "   log_lik[12]  log_lik[13]  log_lik[14]  log_lik[15]  log_lik[16]  \\\n",
       "0     -1.37958     -1.40669     -1.40961     -1.41041     -1.41268   \n",
       "1     -1.47678     -1.29994     -1.51974     -1.49307     -1.48325   \n",
       "2     -1.46859     -1.30612     -1.70168     -1.74672     -1.77959   \n",
       "3     -1.35154     -1.27118     -1.64745     -1.73436     -1.79293   \n",
       "4     -1.39277     -1.47719     -1.45287     -1.54374     -1.60688   \n",
       "\n",
       "   log_lik[17]  log_lik[18]  log_lik[19]  \n",
       "0     -1.48508     -2.80399     -4.53003  \n",
       "1     -1.28726     -2.20386     -3.82816  \n",
       "2     -1.28351     -2.20666     -3.85661  \n",
       "3     -1.26976     -2.51598     -4.41133  \n",
       "4     -1.94253     -2.89269     -4.55033  \n",
       "\n",
       "[5 rows x 68 columns]"
      ]
     },
     "execution_count": 34,
     "metadata": {},
     "output_type": "execute_result"
    }
   ],
   "source": [
    "df=samp_model4.draws_pd()\n",
    "df.head()"
   ]
  },
  {
   "cell_type": "code",
   "execution_count": 35,
   "metadata": {},
   "outputs": [
    {
     "data": {
      "text/html": [
       "<div>\n",
       "<style scoped>\n",
       "    .dataframe tbody tr th:only-of-type {\n",
       "        vertical-align: middle;\n",
       "    }\n",
       "\n",
       "    .dataframe tbody tr th {\n",
       "        vertical-align: top;\n",
       "    }\n",
       "\n",
       "    .dataframe thead th {\n",
       "        text-align: right;\n",
       "    }\n",
       "</style>\n",
       "<table border=\"1\" class=\"dataframe\">\n",
       "  <thead>\n",
       "    <tr style=\"text-align: right;\">\n",
       "      <th></th>\n",
       "      <th>mean</th>\n",
       "      <th>sd</th>\n",
       "      <th>hdi_3%</th>\n",
       "      <th>hdi_97%</th>\n",
       "    </tr>\n",
       "  </thead>\n",
       "  <tbody>\n",
       "    <tr>\n",
       "      <th>mu[0]</th>\n",
       "      <td>12.91</td>\n",
       "      <td>0.54</td>\n",
       "      <td>11.84</td>\n",
       "      <td>13.87</td>\n",
       "    </tr>\n",
       "    <tr>\n",
       "      <th>mu[1]</th>\n",
       "      <td>12.69</td>\n",
       "      <td>0.60</td>\n",
       "      <td>11.52</td>\n",
       "      <td>13.79</td>\n",
       "    </tr>\n",
       "    <tr>\n",
       "      <th>mu[2]</th>\n",
       "      <td>12.88</td>\n",
       "      <td>0.55</td>\n",
       "      <td>11.81</td>\n",
       "      <td>13.86</td>\n",
       "    </tr>\n",
       "    <tr>\n",
       "      <th>mu[3]</th>\n",
       "      <td>13.02</td>\n",
       "      <td>0.51</td>\n",
       "      <td>12.03</td>\n",
       "      <td>13.96</td>\n",
       "    </tr>\n",
       "    <tr>\n",
       "      <th>mu[4]</th>\n",
       "      <td>13.13</td>\n",
       "      <td>0.49</td>\n",
       "      <td>12.25</td>\n",
       "      <td>14.12</td>\n",
       "    </tr>\n",
       "    <tr>\n",
       "      <th>mu[5]</th>\n",
       "      <td>13.35</td>\n",
       "      <td>0.46</td>\n",
       "      <td>12.47</td>\n",
       "      <td>14.20</td>\n",
       "    </tr>\n",
       "    <tr>\n",
       "      <th>mu[6]</th>\n",
       "      <td>13.72</td>\n",
       "      <td>0.45</td>\n",
       "      <td>12.83</td>\n",
       "      <td>14.51</td>\n",
       "    </tr>\n",
       "    <tr>\n",
       "      <th>mu[7]</th>\n",
       "      <td>14.03</td>\n",
       "      <td>0.48</td>\n",
       "      <td>13.15</td>\n",
       "      <td>14.94</td>\n",
       "    </tr>\n",
       "    <tr>\n",
       "      <th>mu[8]</th>\n",
       "      <td>14.30</td>\n",
       "      <td>0.52</td>\n",
       "      <td>13.30</td>\n",
       "      <td>15.26</td>\n",
       "    </tr>\n",
       "    <tr>\n",
       "      <th>mu[9]</th>\n",
       "      <td>14.44</td>\n",
       "      <td>0.53</td>\n",
       "      <td>13.48</td>\n",
       "      <td>15.47</td>\n",
       "    </tr>\n",
       "    <tr>\n",
       "      <th>mu[10]</th>\n",
       "      <td>14.26</td>\n",
       "      <td>0.47</td>\n",
       "      <td>13.41</td>\n",
       "      <td>15.21</td>\n",
       "    </tr>\n",
       "    <tr>\n",
       "      <th>mu[11]</th>\n",
       "      <td>14.43</td>\n",
       "      <td>0.53</td>\n",
       "      <td>13.43</td>\n",
       "      <td>15.44</td>\n",
       "    </tr>\n",
       "    <tr>\n",
       "      <th>mu[12]</th>\n",
       "      <td>14.37</td>\n",
       "      <td>0.49</td>\n",
       "      <td>13.47</td>\n",
       "      <td>15.32</td>\n",
       "    </tr>\n",
       "    <tr>\n",
       "      <th>mu[13]</th>\n",
       "      <td>13.66</td>\n",
       "      <td>0.59</td>\n",
       "      <td>12.49</td>\n",
       "      <td>14.73</td>\n",
       "    </tr>\n",
       "    <tr>\n",
       "      <th>mu[14]</th>\n",
       "      <td>13.29</td>\n",
       "      <td>0.76</td>\n",
       "      <td>11.83</td>\n",
       "      <td>14.70</td>\n",
       "    </tr>\n",
       "    <tr>\n",
       "      <th>mu[15]</th>\n",
       "      <td>13.08</td>\n",
       "      <td>0.87</td>\n",
       "      <td>11.41</td>\n",
       "      <td>14.66</td>\n",
       "    </tr>\n",
       "    <tr>\n",
       "      <th>mu[16]</th>\n",
       "      <td>13.73</td>\n",
       "      <td>0.57</td>\n",
       "      <td>12.58</td>\n",
       "      <td>14.72</td>\n",
       "    </tr>\n",
       "    <tr>\n",
       "      <th>mu[17]</th>\n",
       "      <td>14.44</td>\n",
       "      <td>0.52</td>\n",
       "      <td>13.46</td>\n",
       "      <td>15.45</td>\n",
       "    </tr>\n",
       "    <tr>\n",
       "      <th>mu[18]</th>\n",
       "      <td>14.44</td>\n",
       "      <td>0.53</td>\n",
       "      <td>13.48</td>\n",
       "      <td>15.49</td>\n",
       "    </tr>\n",
       "    <tr>\n",
       "      <th>sigma</th>\n",
       "      <td>1.69</td>\n",
       "      <td>0.21</td>\n",
       "      <td>1.31</td>\n",
       "      <td>2.10</td>\n",
       "    </tr>\n",
       "    <tr>\n",
       "      <th>alcohol[0]</th>\n",
       "      <td>12.89</td>\n",
       "      <td>1.79</td>\n",
       "      <td>9.47</td>\n",
       "      <td>16.26</td>\n",
       "    </tr>\n",
       "    <tr>\n",
       "      <th>alcohol[1]</th>\n",
       "      <td>12.67</td>\n",
       "      <td>1.81</td>\n",
       "      <td>9.41</td>\n",
       "      <td>16.14</td>\n",
       "    </tr>\n",
       "    <tr>\n",
       "      <th>alcohol[2]</th>\n",
       "      <td>12.88</td>\n",
       "      <td>1.79</td>\n",
       "      <td>9.74</td>\n",
       "      <td>16.46</td>\n",
       "    </tr>\n",
       "    <tr>\n",
       "      <th>alcohol[3]</th>\n",
       "      <td>13.03</td>\n",
       "      <td>1.79</td>\n",
       "      <td>9.51</td>\n",
       "      <td>16.31</td>\n",
       "    </tr>\n",
       "    <tr>\n",
       "      <th>alcohol[4]</th>\n",
       "      <td>13.11</td>\n",
       "      <td>1.76</td>\n",
       "      <td>9.94</td>\n",
       "      <td>16.58</td>\n",
       "    </tr>\n",
       "    <tr>\n",
       "      <th>alcohol[5]</th>\n",
       "      <td>13.40</td>\n",
       "      <td>1.76</td>\n",
       "      <td>10.03</td>\n",
       "      <td>16.56</td>\n",
       "    </tr>\n",
       "    <tr>\n",
       "      <th>alcohol[6]</th>\n",
       "      <td>13.71</td>\n",
       "      <td>1.78</td>\n",
       "      <td>10.09</td>\n",
       "      <td>16.84</td>\n",
       "    </tr>\n",
       "    <tr>\n",
       "      <th>alcohol[7]</th>\n",
       "      <td>14.07</td>\n",
       "      <td>1.80</td>\n",
       "      <td>10.50</td>\n",
       "      <td>17.30</td>\n",
       "    </tr>\n",
       "    <tr>\n",
       "      <th>alcohol[8]</th>\n",
       "      <td>14.30</td>\n",
       "      <td>1.75</td>\n",
       "      <td>11.07</td>\n",
       "      <td>17.61</td>\n",
       "    </tr>\n",
       "    <tr>\n",
       "      <th>alcohol[9]</th>\n",
       "      <td>14.49</td>\n",
       "      <td>1.82</td>\n",
       "      <td>11.12</td>\n",
       "      <td>17.94</td>\n",
       "    </tr>\n",
       "    <tr>\n",
       "      <th>alcohol[10]</th>\n",
       "      <td>14.22</td>\n",
       "      <td>1.79</td>\n",
       "      <td>10.76</td>\n",
       "      <td>17.49</td>\n",
       "    </tr>\n",
       "    <tr>\n",
       "      <th>alcohol[11]</th>\n",
       "      <td>14.46</td>\n",
       "      <td>1.78</td>\n",
       "      <td>11.19</td>\n",
       "      <td>17.80</td>\n",
       "    </tr>\n",
       "    <tr>\n",
       "      <th>alcohol[12]</th>\n",
       "      <td>14.41</td>\n",
       "      <td>1.78</td>\n",
       "      <td>11.08</td>\n",
       "      <td>17.73</td>\n",
       "    </tr>\n",
       "    <tr>\n",
       "      <th>alcohol[13]</th>\n",
       "      <td>13.67</td>\n",
       "      <td>1.83</td>\n",
       "      <td>9.94</td>\n",
       "      <td>16.87</td>\n",
       "    </tr>\n",
       "    <tr>\n",
       "      <th>alcohol[14]</th>\n",
       "      <td>13.25</td>\n",
       "      <td>1.84</td>\n",
       "      <td>10.00</td>\n",
       "      <td>16.95</td>\n",
       "    </tr>\n",
       "    <tr>\n",
       "      <th>alcohol[15]</th>\n",
       "      <td>13.09</td>\n",
       "      <td>1.93</td>\n",
       "      <td>9.46</td>\n",
       "      <td>16.71</td>\n",
       "    </tr>\n",
       "    <tr>\n",
       "      <th>alcohol[16]</th>\n",
       "      <td>13.78</td>\n",
       "      <td>1.80</td>\n",
       "      <td>10.50</td>\n",
       "      <td>17.22</td>\n",
       "    </tr>\n",
       "    <tr>\n",
       "      <th>alcohol[17]</th>\n",
       "      <td>14.42</td>\n",
       "      <td>1.80</td>\n",
       "      <td>10.80</td>\n",
       "      <td>17.53</td>\n",
       "    </tr>\n",
       "    <tr>\n",
       "      <th>alcohol[18]</th>\n",
       "      <td>14.42</td>\n",
       "      <td>1.79</td>\n",
       "      <td>10.94</td>\n",
       "      <td>17.75</td>\n",
       "    </tr>\n",
       "  </tbody>\n",
       "</table>\n",
       "</div>"
      ],
      "text/plain": [
       "              mean    sd  hdi_3%  hdi_97%\n",
       "mu[0]        12.91  0.54   11.84    13.87\n",
       "mu[1]        12.69  0.60   11.52    13.79\n",
       "mu[2]        12.88  0.55   11.81    13.86\n",
       "mu[3]        13.02  0.51   12.03    13.96\n",
       "mu[4]        13.13  0.49   12.25    14.12\n",
       "mu[5]        13.35  0.46   12.47    14.20\n",
       "mu[6]        13.72  0.45   12.83    14.51\n",
       "mu[7]        14.03  0.48   13.15    14.94\n",
       "mu[8]        14.30  0.52   13.30    15.26\n",
       "mu[9]        14.44  0.53   13.48    15.47\n",
       "mu[10]       14.26  0.47   13.41    15.21\n",
       "mu[11]       14.43  0.53   13.43    15.44\n",
       "mu[12]       14.37  0.49   13.47    15.32\n",
       "mu[13]       13.66  0.59   12.49    14.73\n",
       "mu[14]       13.29  0.76   11.83    14.70\n",
       "mu[15]       13.08  0.87   11.41    14.66\n",
       "mu[16]       13.73  0.57   12.58    14.72\n",
       "mu[17]       14.44  0.52   13.46    15.45\n",
       "mu[18]       14.44  0.53   13.48    15.49\n",
       "sigma         1.69  0.21    1.31     2.10\n",
       "alcohol[0]   12.89  1.79    9.47    16.26\n",
       "alcohol[1]   12.67  1.81    9.41    16.14\n",
       "alcohol[2]   12.88  1.79    9.74    16.46\n",
       "alcohol[3]   13.03  1.79    9.51    16.31\n",
       "alcohol[4]   13.11  1.76    9.94    16.58\n",
       "alcohol[5]   13.40  1.76   10.03    16.56\n",
       "alcohol[6]   13.71  1.78   10.09    16.84\n",
       "alcohol[7]   14.07  1.80   10.50    17.30\n",
       "alcohol[8]   14.30  1.75   11.07    17.61\n",
       "alcohol[9]   14.49  1.82   11.12    17.94\n",
       "alcohol[10]  14.22  1.79   10.76    17.49\n",
       "alcohol[11]  14.46  1.78   11.19    17.80\n",
       "alcohol[12]  14.41  1.78   11.08    17.73\n",
       "alcohol[13]  13.67  1.83    9.94    16.87\n",
       "alcohol[14]  13.25  1.84   10.00    16.95\n",
       "alcohol[15]  13.09  1.93    9.46    16.71\n",
       "alcohol[16]  13.78  1.80   10.50    17.22\n",
       "alcohol[17]  14.42  1.80   10.80    17.53\n",
       "alcohol[18]  14.42  1.79   10.94    17.75"
      ]
     },
     "execution_count": 35,
     "metadata": {},
     "output_type": "execute_result"
    }
   ],
   "source": [
    "az.summary(samp_model4,var_names=['mu','sigma','alcohol'],round_to=2,kind='stats')"
   ]
  },
  {
   "cell_type": "markdown",
   "metadata": {},
   "source": [
    "Using our model we can try to predict average alcohol consumption for following year and compare it to external data for 2017, that is 11.19 litre pre person.\\\n",
    "Surprisingly the output of the model with regression is almost the same as the output of normal model with slighly wider confidence interval. It might mean that\\\n",
    "there is no relation between GDP and alcohol conusmption."
   ]
  },
  {
   "cell_type": "code",
   "execution_count": 36,
   "metadata": {},
   "outputs": [
    {
     "name": "stdout",
     "output_type": "stream",
     "text": [
      "Median fo predicted consumption = 13.70305\n",
      "Confidence interval = [ 10.7379 16.7974 ]\n",
      "11.19\n"
     ]
    }
   ],
   "source": [
    "median_alcohol = np.median(alcohol_sim)\n",
    "cinf_alcohol_sim = az.hdi(alcohol_sim.flatten(),0.89)\n",
    "print('Median fo predicted consumption =', median_alcohol)\n",
    "print('Confidence interval = [',*cinf_alcohol_sim,']' )\n",
    "print(DATA_2017)"
   ]
  },
  {
   "cell_type": "code",
   "execution_count": 37,
   "metadata": {},
   "outputs": [
    {
     "name": "stderr",
     "output_type": "stream",
     "text": [
      "p:\\Users\\mjszo\\anaconda3\\envs\\data\\lib\\site-packages\\arviz\\data\\base.py:216: UserWarning: More chains (4000) than draws (19). Passed array should have shape (chains, draws, *shape)\n",
      "  warnings.warn(\n",
      "p:\\Users\\mjszo\\anaconda3\\envs\\data\\lib\\site-packages\\arviz\\data\\base.py:216: UserWarning: More chains (4000) than draws (19). Passed array should have shape (chains, draws, *shape)\n",
      "  warnings.warn(\n"
     ]
    },
    {
     "data": {
      "text/plain": [
       "<AxesSubplot:title={'center':'x'}>"
      ]
     },
     "execution_count": 37,
     "metadata": {},
     "output_type": "execute_result"
    },
    {
     "data": {
      "image/png": "[encoded data removed]",
      "text/plain": [
       "<Figure size 432x288 with 1 Axes>"
      ]
     },
     "metadata": {
      "needs_background": "light"
     },
     "output_type": "display_data"
    },
    {
     "data": {
      "image/png": "[encoded data removed]",
      "text/plain": [
       "<Figure size 432x288 with 1 Axes>"
      ]
     },
     "metadata": {
      "needs_background": "light"
     },
     "output_type": "display_data"
    }
   ],
   "source": [
    "az.plot_posterior(alcohol_sim,round_to=2,kind='hist', bins=100,ref_val=DATA_2017)\n",
    "az.plot_posterior(alcohol_sim,round_to=2,kind='kde', bins=100,ref_val=DATA_2017)"
   ]
  },
  {
   "cell_type": "markdown",
   "metadata": {},
   "source": [
    "### Model comparison"
   ]
  },
  {
   "cell_type": "code",
   "execution_count": 38,
   "metadata": {},
   "outputs": [],
   "source": [
    "fit_n=az.from_cmdstanpy(posterior=samp_model2, posterior_predictive='alcohol',log_likelihood='log_lik')\n",
    "fit_r=az.from_cmdstanpy(posterior=samp_model4, posterior_predictive='alcohol',log_likelihood='log_lik')"
   ]
  },
  {
   "cell_type": "code",
   "execution_count": 39,
   "metadata": {},
   "outputs": [
    {
     "name": "stderr",
     "output_type": "stream",
     "text": [
      "p:\\Users\\mjszo\\anaconda3\\envs\\data\\lib\\site-packages\\arviz\\stats\\stats.py:248: FutureWarning: The frame.append method is deprecated and will be removed from pandas in a future version. Use pandas.concat instead.\n",
      "  ics = ics.append([ic_func(dataset, pointwise=True, scale=scale, var_name=var_name)])\n",
      "p:\\Users\\mjszo\\anaconda3\\envs\\data\\lib\\site-packages\\arviz\\stats\\stats.py:248: FutureWarning: The frame.append method is deprecated and will be removed from pandas in a future version. Use pandas.concat instead.\n",
      "  ics = ics.append([ic_func(dataset, pointwise=True, scale=scale, var_name=var_name)])\n"
     ]
    },
    {
     "data": {
      "text/html": [
       "<div>\n",
       "<style scoped>\n",
       "    .dataframe tbody tr th:only-of-type {\n",
       "        vertical-align: middle;\n",
       "    }\n",
       "\n",
       "    .dataframe tbody tr th {\n",
       "        vertical-align: top;\n",
       "    }\n",
       "\n",
       "    .dataframe thead th {\n",
       "        text-align: right;\n",
       "    }\n",
       "</style>\n",
       "<table border=\"1\" class=\"dataframe\">\n",
       "  <thead>\n",
       "    <tr style=\"text-align: right;\">\n",
       "      <th></th>\n",
       "      <th>rank</th>\n",
       "      <th>loo</th>\n",
       "      <th>p_loo</th>\n",
       "      <th>d_loo</th>\n",
       "      <th>weight</th>\n",
       "      <th>se</th>\n",
       "      <th>dse</th>\n",
       "      <th>warning</th>\n",
       "      <th>loo_scale</th>\n",
       "    </tr>\n",
       "  </thead>\n",
       "  <tbody>\n",
       "    <tr>\n",
       "      <th>Normal</th>\n",
       "      <td>0</td>\n",
       "      <td>-41.622382</td>\n",
       "      <td>1.691984</td>\n",
       "      <td>0.000000</td>\n",
       "      <td>0.513639</td>\n",
       "      <td>3.071663</td>\n",
       "      <td>0.000000</td>\n",
       "      <td>False</td>\n",
       "      <td>log</td>\n",
       "    </tr>\n",
       "    <tr>\n",
       "      <th>Regression</th>\n",
       "      <td>1</td>\n",
       "      <td>-42.353919</td>\n",
       "      <td>3.388454</td>\n",
       "      <td>0.731537</td>\n",
       "      <td>0.486361</td>\n",
       "      <td>4.525692</td>\n",
       "      <td>2.758255</td>\n",
       "      <td>False</td>\n",
       "      <td>log</td>\n",
       "    </tr>\n",
       "  </tbody>\n",
       "</table>\n",
       "</div>"
      ],
      "text/plain": [
       "            rank        loo     p_loo     d_loo    weight        se       dse  \\\n",
       "Normal         0 -41.622382  1.691984  0.000000  0.513639  3.071663  0.000000   \n",
       "Regression     1 -42.353919  3.388454  0.731537  0.486361  4.525692  2.758255   \n",
       "\n",
       "            warning loo_scale  \n",
       "Normal        False       log  \n",
       "Regression    False       log  "
      ]
     },
     "execution_count": 39,
     "metadata": {},
     "output_type": "execute_result"
    }
   ],
   "source": [
    "loo_compare = az.compare({'Normal':fit_n,'Regression':fit_r}, 'loo')\n",
    "loo_compare"
   ]
  },
  {
   "cell_type": "markdown",
   "metadata": {},
   "source": [
    "The output of LOO criterion shows that the Normal model was better but differences are not that significant. The LOO value for this model is higher \\\n",
    "as well as weight. For none of model any error appeard \n"
   ]
  },
  {
   "cell_type": "code",
   "execution_count": 40,
   "metadata": {},
   "outputs": [
    {
     "name": "stderr",
     "output_type": "stream",
     "text": [
      "p:\\Users\\mjszo\\anaconda3\\envs\\data\\lib\\site-packages\\arviz\\stats\\stats.py:248: FutureWarning: The frame.append method is deprecated and will be removed from pandas in a future version. Use pandas.concat instead.\n",
      "  ics = ics.append([ic_func(dataset, pointwise=True, scale=scale, var_name=var_name)])\n",
      "p:\\Users\\mjszo\\anaconda3\\envs\\data\\lib\\site-packages\\arviz\\stats\\stats.py:1458: UserWarning: For one or more samples the posterior variance of the log predictive densities exceeds 0.4. This could be indication of WAIC starting to fail. \n",
      "See http://arxiv.org/abs/1507.04544 for details\n",
      "  warnings.warn(\n",
      "p:\\Users\\mjszo\\anaconda3\\envs\\data\\lib\\site-packages\\arviz\\stats\\stats.py:248: FutureWarning: The frame.append method is deprecated and will be removed from pandas in a future version. Use pandas.concat instead.\n",
      "  ics = ics.append([ic_func(dataset, pointwise=True, scale=scale, var_name=var_name)])\n"
     ]
    },
    {
     "data": {
      "text/html": [
       "<div>\n",
       "<style scoped>\n",
       "    .dataframe tbody tr th:only-of-type {\n",
       "        vertical-align: middle;\n",
       "    }\n",
       "\n",
       "    .dataframe tbody tr th {\n",
       "        vertical-align: top;\n",
       "    }\n",
       "\n",
       "    .dataframe thead th {\n",
       "        text-align: right;\n",
       "    }\n",
       "</style>\n",
       "<table border=\"1\" class=\"dataframe\">\n",
       "  <thead>\n",
       "    <tr style=\"text-align: right;\">\n",
       "      <th></th>\n",
       "      <th>rank</th>\n",
       "      <th>waic</th>\n",
       "      <th>p_waic</th>\n",
       "      <th>d_waic</th>\n",
       "      <th>weight</th>\n",
       "      <th>se</th>\n",
       "      <th>dse</th>\n",
       "      <th>warning</th>\n",
       "      <th>waic_scale</th>\n",
       "    </tr>\n",
       "  </thead>\n",
       "  <tbody>\n",
       "    <tr>\n",
       "      <th>Normal</th>\n",
       "      <td>0</td>\n",
       "      <td>-41.599617</td>\n",
       "      <td>1.669219</td>\n",
       "      <td>0.000000</td>\n",
       "      <td>0.50678</td>\n",
       "      <td>3.064054</td>\n",
       "      <td>0.000000</td>\n",
       "      <td>False</td>\n",
       "      <td>log</td>\n",
       "    </tr>\n",
       "    <tr>\n",
       "      <th>Regression</th>\n",
       "      <td>1</td>\n",
       "      <td>-42.257318</td>\n",
       "      <td>3.291854</td>\n",
       "      <td>0.657701</td>\n",
       "      <td>0.49322</td>\n",
       "      <td>4.469408</td>\n",
       "      <td>2.705743</td>\n",
       "      <td>True</td>\n",
       "      <td>log</td>\n",
       "    </tr>\n",
       "  </tbody>\n",
       "</table>\n",
       "</div>"
      ],
      "text/plain": [
       "            rank       waic    p_waic    d_waic   weight        se       dse  \\\n",
       "Normal         0 -41.599617  1.669219  0.000000  0.50678  3.064054  0.000000   \n",
       "Regression     1 -42.257318  3.291854  0.657701  0.49322  4.469408  2.705743   \n",
       "\n",
       "            warning waic_scale  \n",
       "Normal        False        log  \n",
       "Regression     True        log  "
      ]
     },
     "execution_count": 40,
     "metadata": {},
     "output_type": "execute_result"
    }
   ],
   "source": [
    "waic_compare = az.compare({'Normal':fit_n,'Regression':fit_r}, 'waic')\n",
    "waic_compare"
   ]
  },
  {
   "cell_type": "markdown",
   "metadata": {},
   "source": [
    "The output information from the WAIC criterion is almost the same as for the LOO criterion. The normal model is slightly better, the values \\\n",
    "waic parameter and weights are higher compared to the regression model. In this case, there was a warning for the second model. According to the \\\n",
    "diagnostic message, the output may not be reliable because for some samples the posterior variance of the logarithmic predictive densities exceeds 0.4."
   ]
  },
  {
   "cell_type": "code",
   "execution_count": 41,
   "metadata": {},
   "outputs": [
    {
     "data": {
      "image/png": "[encoded data removed]",
      "text/plain": [
       "<Figure size 432x144 with 1 Axes>"
      ]
     },
     "metadata": {
      "needs_background": "light"
     },
     "output_type": "display_data"
    }
   ],
   "source": [
    "az.plot_compare(loo_compare)\n",
    "plt.show()\n"
   ]
  },
  {
   "cell_type": "code",
   "execution_count": 42,
   "metadata": {},
   "outputs": [
    {
     "data": {
      "image/png": "[encoded data removed]",
      "text/plain": [
       "<Figure size 432x144 with 1 Axes>"
      ]
     },
     "metadata": {
      "needs_background": "light"
     },
     "output_type": "display_data"
    }
   ],
   "source": [
    "az.plot_compare(waic_compare)\n",
    "plt.show()"
   ]
  },
  {
   "cell_type": "markdown",
   "metadata": {},
   "source": [
    "After plotting the results we can see that outputs of loo and waic criteria are quite similar. What is suprising in both cases the normal model slightly\\\n",
    "better describes the analysed data, the line corresponding to that model is shorter. The conclusion is that the decreasing consumption of alcohol \\\n",
    "in Moskow is related to some other phenomenas, not exacly to GDP. "
   ]
  }
 ],
 "metadata": {
  "interpreter": {
   "hash": "bb3a3e54745169df8fcb953f9a723aee97d02f7ad7df9b38018a207a28d83d80"
  },
  "kernelspec": {
   "display_name": "Python 3.9.10 ('data')",
   "language": "python",
   "name": "python3"
  },
  "language_info": {
   "codemirror_mode": {
    "name": "ipython",
    "version": 3
   },
   "file_extension": ".py",
   "mimetype": "text/x-python",
   "name": "python",
   "nbconvert_exporter": "python",
   "pygments_lexer": "ipython3",
   "version": "3.9.10"
  },
  "orig_nbformat": 4
 },
 "nbformat": 4,
 "nbformat_minor": 2
}
