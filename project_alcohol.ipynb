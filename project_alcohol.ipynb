{
 "cells": [
  {
   "cell_type": "markdown",
   "metadata": {},
   "source": [
    "## Prediction of alcohol consumption in Moskow\n",
    "### Authors: Mikołaj Szopa, Bartosz Trynda\n",
    "Main goal of this project is to analyse and try to make a prediction of alcohol consumption pre capita based of pre years values.\\\n",
    "\n",
    "### The data\n",
    "The data used in this project comes mainly for kaggle webstite https://www.kaggle.com/datasets/dwdkills/alcohol-consumption-in-russia \\\n",
    "Data set contains values of consumption of different types of alcohols i.e. beer, vodka, wine etc. durig 18 years between 1998 and 2016.\\\n",
    "For the project consumption of clear alcohol was needed, so some calculation were required. Moreover the data set was extended by additional\\\n",
    "GDP per Capita data found on The World Bank website https://data.worldbank.org/indicator/NY.GDP.PCAP.CD?locations=RU .\n",
    "\n",
    "To check prediciotion reference value of 2017 was used that equals 11.19 litre per capita\n"
   ]
  },
  {
   "cell_type": "code",
   "execution_count": 1067,
   "metadata": {},
   "outputs": [],
   "source": [
    "from cmdstanpy import CmdStanModel\n",
    "import pandas as pd\n",
    "import arviz as az \n",
    "import numpy as np\n",
    "import matplotlib.pyplot as plt\n",
    "import scipy.stats as stats"
   ]
  },
  {
   "cell_type": "code",
   "execution_count": 1024,
   "metadata": {},
   "outputs": [],
   "source": [
    "DATA_2017=11.19\n",
    "data_mos = pd.read_csv('Moskwa.csv',sep=';')\n",
    "data_years=data_mos['year'].to_numpy()\n",
    "data_values=data_mos['alcohol'].to_numpy()\n",
    "data_gdp=data_mos['GDP_per_capita'].to_numpy()\n",
    "zeros=[0,0,0,0,0,0,0,0,0,0,0,0,0,0,0,0,0,0,0]\n"
   ]
  },
  {
   "cell_type": "markdown",
   "metadata": {},
   "source": [
    "Data presentation"
   ]
  },
  {
   "cell_type": "code",
   "execution_count": 1025,
   "metadata": {},
   "outputs": [
    {
     "data": {
      "text/html": [
       "<div>\n",
       "<style scoped>\n",
       "    .dataframe tbody tr th:only-of-type {\n",
       "        vertical-align: middle;\n",
       "    }\n",
       "\n",
       "    .dataframe tbody tr th {\n",
       "        vertical-align: top;\n",
       "    }\n",
       "\n",
       "    .dataframe thead th {\n",
       "        text-align: right;\n",
       "    }\n",
       "</style>\n",
       "<table border=\"1\" class=\"dataframe\">\n",
       "  <thead>\n",
       "    <tr style=\"text-align: right;\">\n",
       "      <th></th>\n",
       "      <th>year</th>\n",
       "      <th>region</th>\n",
       "      <th>wine</th>\n",
       "      <th>beer</th>\n",
       "      <th>vodka</th>\n",
       "      <th>champagne</th>\n",
       "      <th>brandy</th>\n",
       "      <th>alcohol</th>\n",
       "      <th>GDP_per_capita</th>\n",
       "    </tr>\n",
       "  </thead>\n",
       "  <tbody>\n",
       "    <tr>\n",
       "      <th>0</th>\n",
       "      <td>1998</td>\n",
       "      <td>Moscow</td>\n",
       "      <td>6.8</td>\n",
       "      <td>30.0</td>\n",
       "      <td>18.9</td>\n",
       "      <td>3.5</td>\n",
       "      <td>0.7</td>\n",
       "      <td>10.63</td>\n",
       "      <td>1834.9</td>\n",
       "    </tr>\n",
       "    <tr>\n",
       "      <th>1</th>\n",
       "      <td>1999</td>\n",
       "      <td>Moscow</td>\n",
       "      <td>6.6</td>\n",
       "      <td>56.0</td>\n",
       "      <td>18.7</td>\n",
       "      <td>3.6</td>\n",
       "      <td>0.7</td>\n",
       "      <td>11.83</td>\n",
       "      <td>1330.8</td>\n",
       "    </tr>\n",
       "    <tr>\n",
       "      <th>2</th>\n",
       "      <td>2000</td>\n",
       "      <td>Moscow</td>\n",
       "      <td>6.3</td>\n",
       "      <td>61.8</td>\n",
       "      <td>18.8</td>\n",
       "      <td>3.9</td>\n",
       "      <td>0.6</td>\n",
       "      <td>12.12</td>\n",
       "      <td>1771.6</td>\n",
       "    </tr>\n",
       "    <tr>\n",
       "      <th>3</th>\n",
       "      <td>2001</td>\n",
       "      <td>Moscow</td>\n",
       "      <td>5.0</td>\n",
       "      <td>78.9</td>\n",
       "      <td>19.7</td>\n",
       "      <td>4.2</td>\n",
       "      <td>0.7</td>\n",
       "      <td>13.24</td>\n",
       "      <td>2100.4</td>\n",
       "    </tr>\n",
       "    <tr>\n",
       "      <th>4</th>\n",
       "      <td>2002</td>\n",
       "      <td>Moscow</td>\n",
       "      <td>4.8</td>\n",
       "      <td>85.7</td>\n",
       "      <td>20.8</td>\n",
       "      <td>4.0</td>\n",
       "      <td>0.9</td>\n",
       "      <td>14.05</td>\n",
       "      <td>2377.5</td>\n",
       "    </tr>\n",
       "  </tbody>\n",
       "</table>\n",
       "</div>"
      ],
      "text/plain": [
       "   year  region  wine  beer  vodka  champagne  brandy  alcohol  GDP_per_capita\n",
       "0  1998  Moscow   6.8  30.0   18.9        3.5     0.7    10.63          1834.9\n",
       "1  1999  Moscow   6.6  56.0   18.7        3.6     0.7    11.83          1330.8\n",
       "2  2000  Moscow   6.3  61.8   18.8        3.9     0.6    12.12          1771.6\n",
       "3  2001  Moscow   5.0  78.9   19.7        4.2     0.7    13.24          2100.4\n",
       "4  2002  Moscow   4.8  85.7   20.8        4.0     0.9    14.05          2377.5"
      ]
     },
     "execution_count": 1025,
     "metadata": {},
     "output_type": "execute_result"
    }
   ],
   "source": [
    "data_mos.head()"
   ]
  },
  {
   "cell_type": "code",
   "execution_count": 1026,
   "metadata": {},
   "outputs": [
    {
     "data": {
      "text/plain": [
       "Text(0.5, 1.0, 'Alcohol consumption in Moskow')"
      ]
     },
     "execution_count": 1026,
     "metadata": {},
     "output_type": "execute_result"
    },
    {
     "data": {
      "image/png": "[encoded data removed]",
      "text/plain": [
       "<Figure size 1008x576 with 1 Axes>"
      ]
     },
     "metadata": {
      "needs_background": "light"
     },
     "output_type": "display_data"
    }
   ],
   "source": [
    "fig = plt.figure(figsize=(14,8))\n",
    "plt.grid(True)\n",
    "plt.grid\n",
    "plt.plot(data_years,data_values,color='0.75')\n",
    "plt.xlabel('Year')\n",
    "plt.ylabel('Liters')\n",
    "plt.title('Alcohol consumption in Moskow')"
   ]
  },
  {
   "cell_type": "code",
   "execution_count": null,
   "metadata": {},
   "outputs": [],
   "source": [
    "Looking at the data it is clear that the consumption of alohol is decreasing over the year and had it's maximum around 2006.\\\n",
    "\n",
    "The question is, if this trend is realted to something i.e. GDP or is it more or less random.\n",
    "\n",
    "To find this out two models were chosen:\\\n",
    "1. normal: *value = normal($\\mu$,$\\sigma$)*\n",
    "2. quadratic regression: *value = normal($\\beta$·gdp+$\\beta$ _2·gdp^2+$\\alpha$,$\\sigma$)*\n",
    "\n",
    "The normal model means that the outcome value is not connected with any porcess and it is simply a randnom value from specific range.\\\n",
    "When you think, about your previous year alcohol consumption rather does not have impact on how much you drink this year. It worth checking.\n",
    "\n",
    "The second model with quadratic equation assumes that the consumption rise along side with gdp but when the sociaty is wealthy enougth,\\\n",
    "it spends its money of other things than alcohol. The second level of polynomial was chosen as linear one which was tested before did not\\\n",
    "fit to data."
   ]
  },
  {
   "cell_type": "markdown",
   "metadata": {},
   "source": [
    "### Normal model\n",
    "For our model some prior had to be chosen. As we do not know what are typical values for alcohol consumption we made had\\\n",
    "to pick priors by trial.\n",
    "\n",
    "Assuming that:\\\n",
    "1. a beer(500ml) contains 22,5 ml of alcohol\n",
    "2. a glass of wine (175ml) contains 21 ml of alcohol\n",
    "3. a glass of vodka (50ml) contains 20 ml of alcohol\n",
    "\n",
    "Lets imagine a normal peroson that drinks beer five times a week, and to times a week wine to dinner. That gives us 116,5 ml\\\n",
    "of alcohol per week. In addition lets assume that the same person once a month goes to party and drinks 10 shots of vodka.\\\n",
    "It gives us around 11 liters of alcohol per year. As we know we are calcualting valeus for people in Russia so lets add additional\\\n",
    "1,5 litre to out value.\n",
    "\n",
    "We also have to think that some people might go to party twice a month and some will go to one every two month or more rarely.\\\n",
    "Taking all of this into consideration we end up with mean value of 12,5 and variance of 2,5"
   ]
  },
  {
   "cell_type": "code",
   "execution_count": 1033,
   "metadata": {},
   "outputs": [
    {
     "name": "stdout",
     "output_type": "stream",
     "text": [
      "generated quantities {\n",
      "   real mu = normal_rng(12.5,2.5);\n",
      "   real sigma = fabs(normal_rng(0,0.6));\n",
      "   real alcohol =  normal_rng(mu, sigma);\n",
      "}\n"
     ]
    }
   ],
   "source": [
    "with open('normal_pre.stan','r') as file:\n",
    "    print(file.read())"
   ]
  },
  {
   "cell_type": "code",
   "execution_count": 1034,
   "metadata": {},
   "outputs": [
    {
     "name": "stderr",
     "output_type": "stream",
     "text": [
      "INFO:cmdstanpy:compiling stan file C:\\Users\\mjszo\\OneDrive\\Pulpit\\stan\\normal_pre.stan to exe file C:\\Users\\mjszo\\OneDrive\\Pulpit\\stan\\normal_pre.exe\n",
      "INFO:cmdstanpy:compiled model executable: C:\\Users\\mjszo\\OneDrive\\Pulpit\\stan\\normal_pre.exe\n"
     ]
    }
   ],
   "source": [
    "model_normal = CmdStanModel(stan_file='normal_pre.stan')"
   ]
  },
  {
   "cell_type": "code",
   "execution_count": 1035,
   "metadata": {},
   "outputs": [
    {
     "name": "stderr",
     "output_type": "stream",
     "text": [
      "INFO:cmdstanpy:CmdStan start processing\n",
      "chain 1 |\u001b[34m██████████\u001b[0m| 00:00 Sampling completed"
     ]
    },
    {
     "name": "stdout",
     "output_type": "stream",
     "text": [
      "                                                                                "
     ]
    },
    {
     "name": "stderr",
     "output_type": "stream",
     "text": [
      "\n",
      "INFO:cmdstanpy:CmdStan done processing.\n"
     ]
    },
    {
     "name": "stdout",
     "output_type": "stream",
     "text": [
      "\n"
     ]
    }
   ],
   "source": [
    "samp_model1 = model_normal.sample(iter_sampling=1000, iter_warmup=0, chains=1, fixed_param=True, seed=22042020,refresh=1000)"
   ]
  },
  {
   "cell_type": "code",
   "execution_count": 1036,
   "metadata": {},
   "outputs": [
    {
     "data": {
      "text/html": [
       "<div>\n",
       "<style scoped>\n",
       "    .dataframe tbody tr th:only-of-type {\n",
       "        vertical-align: middle;\n",
       "    }\n",
       "\n",
       "    .dataframe tbody tr th {\n",
       "        vertical-align: top;\n",
       "    }\n",
       "\n",
       "    .dataframe thead th {\n",
       "        text-align: right;\n",
       "    }\n",
       "</style>\n",
       "<table border=\"1\" class=\"dataframe\">\n",
       "  <thead>\n",
       "    <tr style=\"text-align: right;\">\n",
       "      <th></th>\n",
       "      <th>mean</th>\n",
       "      <th>sd</th>\n",
       "      <th>hdi_3%</th>\n",
       "      <th>hdi_97%</th>\n",
       "    </tr>\n",
       "  </thead>\n",
       "  <tbody>\n",
       "    <tr>\n",
       "      <th>mu</th>\n",
       "      <td>12.54</td>\n",
       "      <td>2.51</td>\n",
       "      <td>7.88</td>\n",
       "      <td>17.27</td>\n",
       "    </tr>\n",
       "    <tr>\n",
       "      <th>sigma</th>\n",
       "      <td>0.48</td>\n",
       "      <td>0.34</td>\n",
       "      <td>0.00</td>\n",
       "      <td>1.10</td>\n",
       "    </tr>\n",
       "  </tbody>\n",
       "</table>\n",
       "</div>"
      ],
      "text/plain": [
       "        mean    sd  hdi_3%  hdi_97%\n",
       "mu     12.54  2.51    7.88    17.27\n",
       "sigma   0.48  0.34    0.00     1.10"
      ]
     },
     "execution_count": 1036,
     "metadata": {},
     "output_type": "execute_result"
    }
   ],
   "source": [
    "mu_sim=samp_model1.stan_variable('mu')\n",
    "sigma_sim=samp_model1.stan_variable('sigma')\n",
    "alcohol=samp_model1.stan_variable('alcohol')\n",
    "az.summary(samp_model1,var_names=['mu','sigma'],round_to=2,kind='stats')"
   ]
  },
  {
   "cell_type": "markdown",
   "metadata": {},
   "source": [
    "Having generated samples from prior model we can print them alongside with out data to see weather we choose\\\n",
    "good parameters for values. On the chart below generated samples are compared to real data (red dots)\\\n",
    "Is seems that the prior parameters have been chosen correctly"
   ]
  },
  {
   "cell_type": "code",
   "execution_count": 1038,
   "metadata": {},
   "outputs": [
    {
     "data": {
      "text/plain": [
       "Text(0.5, 1.0, '$\\\\sigma$')"
      ]
     },
     "execution_count": 1038,
     "metadata": {},
     "output_type": "execute_result"
    },
    {
     "data": {
      "image/png": "[encoded data removed]",
      "text/plain": [
       "<Figure size 1008x576 with 3 Axes>"
      ]
     },
     "metadata": {
      "needs_background": "light"
     },
     "output_type": "display_data"
    }
   ],
   "source": [
    "fig = plt.figure(figsize=(14,8))\n",
    "gs = fig.add_gridspec(2,2)\n",
    "ax1 = fig.add_subplot(gs[1, :])\n",
    "ax1.hist(alcohol,bins=20,color='0.75',edgecolor='k',density=True)\n",
    "ax1.vlines([0,25],ymin=0,ymax=15e-2,linestyle='--',color='r',zorder=1)\n",
    "ax1.set_yticks([])\n",
    "ax1.set_title('Simulated alcohol consumption (liter of ethanol per person')\n",
    "ax1.plot(data_values,zeros,color='r',markeredgecolor='k',markersize=20,marker='.',zorder=2,label='Data')\n",
    "\n",
    "ax2 = fig.add_subplot(gs[0, 0])\n",
    "ax3 = fig.add_subplot(gs[0, 1])\n",
    "ax2.set_yticks([])\n",
    "ax2.hist(mu_sim,bins=20,color='0.75',edgecolor='k',density=True)\n",
    "x=np.linspace(0,25)\n",
    "y=stats.norm.pdf(x,loc=12.5,scale=2.5)\n",
    "ax2.plot(x,y,'r')\n",
    "ax2.set_title('$\\mu$')\n",
    "ax2.set_yticks([])\n",
    "ax3.set_yticks([])\n",
    "\n",
    "ax3.hist(sigma_sim,bins=20,color='0.75',edgecolor='k',density=True)\n",
    "x=np.linspace(0,5)\n",
    "y=stats.halfnorm.pdf(x,loc=0,scale=0.6)\n",
    "ax3.plot(x,y,'r')\n",
    "ax3.set_title('$\\sigma$')\n"
   ]
  },
  {
   "cell_type": "markdown",
   "metadata": {},
   "source": [
    "The samples from prior are displayed on one plot with actual data(red dots). From the plot we can assume that the prior\\\n",
    "was chosen properly and we can go to next step of analysis"
   ]
  },
  {
   "cell_type": "markdown",
   "metadata": {},
   "source": [
    "### POSTERIOR - normal model"
   ]
  },
  {
   "cell_type": "code",
   "execution_count": 1043,
   "metadata": {},
   "outputs": [
    {
     "name": "stderr",
     "output_type": "stream",
     "text": [
      "INFO:cmdstanpy:found newer exe file, not recompiling\n"
     ]
    }
   ],
   "source": [
    "fit_normal = CmdStanModel(stan_file='normal_post.stan')"
   ]
  },
  {
   "cell_type": "code",
   "execution_count": 1044,
   "metadata": {},
   "outputs": [
    {
     "name": "stderr",
     "output_type": "stream",
     "text": [
      "INFO:cmdstanpy:CmdStan start processing\n",
      "chain 1 |\u001b[33m          \u001b[0m| 00:00 Status\n",
      "\u001b[A\n",
      "\n",
      "chain 1 |\u001b[33m█▊        \u001b[0m| 00:00 Iteration:  200 / 2000 [ 10%]  (Warmup)\n",
      "\u001b[A\n",
      "\n",
      "\u001b[A\u001b[A\n",
      "\n",
      "chain 1 |\u001b[34m███████▋  \u001b[0m| 00:00 Iteration: 1400 / 2000 [ 70%]  (Sampling)\n",
      "chain 1 |\u001b[34m██████████\u001b[0m| 00:00 Sampling completed                       \n",
      "chain 2 |\u001b[34m██████████\u001b[0m| 00:00 Sampling completed                       \n",
      "chain 3 |\u001b[34m██████████\u001b[0m| 00:00 Sampling completed                       \n",
      "chain 4 |\u001b[34m██████████\u001b[0m| 00:00 Sampling completed                       "
     ]
    },
    {
     "name": "stdout",
     "output_type": "stream",
     "text": [
      "                                                                                                                                                                                                                                                                                                                                "
     ]
    },
    {
     "name": "stderr",
     "output_type": "stream",
     "text": [
      "\n",
      "INFO:cmdstanpy:CmdStan done processing.\n"
     ]
    },
    {
     "name": "stdout",
     "output_type": "stream",
     "text": [
      "\n"
     ]
    }
   ],
   "source": [
    "data = dict(N=len(data_years), alcohol_val=data_values,)\n",
    "\n",
    "samp_model2 = fit_normal.sample(data=data,seed=29042020)\n",
    "mu_sim=samp_model2.stan_variable('mu')\n",
    "sigma_sim=samp_model2.stan_variable('sigma')\n",
    "alcohol_sim=samp_model2.stan_variable('alcohol')"
   ]
  },
  {
   "cell_type": "code",
   "execution_count": 1045,
   "metadata": {},
   "outputs": [
    {
     "data": {
      "text/plain": [
       "'Processing csv files: C:\\\\Users\\\\mjszo\\\\AppData\\\\Local\\\\Temp\\\\tmpt7zigt82\\\\normal_post-20220613181630_1.csv, C:\\\\Users\\\\mjszo\\\\AppData\\\\Local\\\\Temp\\\\tmpt7zigt82\\\\normal_post-20220613181630_2.csv, C:\\\\Users\\\\mjszo\\\\AppData\\\\Local\\\\Temp\\\\tmpt7zigt82\\\\normal_post-20220613181630_3.csv, C:\\\\Users\\\\mjszo\\\\AppData\\\\Local\\\\Temp\\\\tmpt7zigt82\\\\normal_post-20220613181630_4.csv\\n\\nChecking sampler transitions treedepth.\\nTreedepth satisfactory for all transitions.\\n\\nChecking sampler transitions for divergences.\\nNo divergent transitions found.\\n\\nChecking E-BFMI - sampler transitions HMC potential energy.\\nE-BFMI satisfactory.\\n\\nEffective sample size satisfactory.\\n\\nSplit R-hat values satisfactory all parameters.\\n\\nProcessing complete, no problems detected.\\n'"
      ]
     },
     "execution_count": 1045,
     "metadata": {},
     "output_type": "execute_result"
    }
   ],
   "source": [
    "samp_model2.diagnose()"
   ]
  },
  {
   "cell_type": "markdown",
   "metadata": {},
   "source": [
    "Having fitted the model with the data diagnose function was has been called. The output of this test point that model and parameters were chosen properly.\\\n",
    "No divergences occures during samplig, the size of effective samples are good and the R-hat values are satisfactory for all parameter"
   ]
  },
  {
   "cell_type": "code",
   "execution_count": 1073,
   "metadata": {},
   "outputs": [
    {
     "data": {
      "text/html": [
       "<div>\n",
       "<style scoped>\n",
       "    .dataframe tbody tr th:only-of-type {\n",
       "        vertical-align: middle;\n",
       "    }\n",
       "\n",
       "    .dataframe tbody tr th {\n",
       "        vertical-align: top;\n",
       "    }\n",
       "\n",
       "    .dataframe thead th {\n",
       "        text-align: right;\n",
       "    }\n",
       "</style>\n",
       "<table border=\"1\" class=\"dataframe\">\n",
       "  <thead>\n",
       "    <tr style=\"text-align: right;\">\n",
       "      <th></th>\n",
       "      <th>lp__</th>\n",
       "      <th>accept_stat__</th>\n",
       "      <th>stepsize__</th>\n",
       "      <th>treedepth__</th>\n",
       "      <th>n_leapfrog__</th>\n",
       "      <th>divergent__</th>\n",
       "      <th>energy__</th>\n",
       "      <th>mu</th>\n",
       "      <th>sigma</th>\n",
       "      <th>alcohol[1]</th>\n",
       "      <th>...</th>\n",
       "      <th>log_lik[10]</th>\n",
       "      <th>log_lik[11]</th>\n",
       "      <th>log_lik[12]</th>\n",
       "      <th>log_lik[13]</th>\n",
       "      <th>log_lik[14]</th>\n",
       "      <th>log_lik[15]</th>\n",
       "      <th>log_lik[16]</th>\n",
       "      <th>log_lik[17]</th>\n",
       "      <th>log_lik[18]</th>\n",
       "      <th>log_lik[19]</th>\n",
       "    </tr>\n",
       "  </thead>\n",
       "  <tbody>\n",
       "    <tr>\n",
       "      <th>0</th>\n",
       "      <td>-44.2736</td>\n",
       "      <td>1.000000</td>\n",
       "      <td>0.881645</td>\n",
       "      <td>2.0</td>\n",
       "      <td>3.0</td>\n",
       "      <td>0.0</td>\n",
       "      <td>44.7093</td>\n",
       "      <td>13.4906</td>\n",
       "      <td>1.98578</td>\n",
       "      <td>15.0408</td>\n",
       "      <td>...</td>\n",
       "      <td>-2.62005</td>\n",
       "      <td>-1.95834</td>\n",
       "      <td>-1.66522</td>\n",
       "      <td>-1.60676</td>\n",
       "      <td>-1.62621</td>\n",
       "      <td>-1.60620</td>\n",
       "      <td>-1.60558</td>\n",
       "      <td>-1.66897</td>\n",
       "      <td>-2.17512</td>\n",
       "      <td>-3.10590</td>\n",
       "    </tr>\n",
       "    <tr>\n",
       "      <th>1</th>\n",
       "      <td>-45.3979</td>\n",
       "      <td>0.898533</td>\n",
       "      <td>0.881645</td>\n",
       "      <td>2.0</td>\n",
       "      <td>3.0</td>\n",
       "      <td>0.0</td>\n",
       "      <td>45.8031</td>\n",
       "      <td>12.9640</td>\n",
       "      <td>2.04997</td>\n",
       "      <td>13.2004</td>\n",
       "      <td>...</td>\n",
       "      <td>-2.97682</td>\n",
       "      <td>-2.21055</td>\n",
       "      <td>-1.81270</td>\n",
       "      <td>-1.68642</td>\n",
       "      <td>-1.74101</td>\n",
       "      <td>-1.68339</td>\n",
       "      <td>-1.66151</td>\n",
       "      <td>-1.64079</td>\n",
       "      <td>-1.93907</td>\n",
       "      <td>-2.64706</td>\n",
       "    </tr>\n",
       "    <tr>\n",
       "      <th>2</th>\n",
       "      <td>-45.7694</td>\n",
       "      <td>0.988626</td>\n",
       "      <td>0.881645</td>\n",
       "      <td>2.0</td>\n",
       "      <td>3.0</td>\n",
       "      <td>0.0</td>\n",
       "      <td>45.9421</td>\n",
       "      <td>12.7908</td>\n",
       "      <td>1.98759</td>\n",
       "      <td>13.4727</td>\n",
       "      <td>...</td>\n",
       "      <td>-3.18224</td>\n",
       "      <td>-2.31627</td>\n",
       "      <td>-1.85011</td>\n",
       "      <td>-1.69079</td>\n",
       "      <td>-1.76157</td>\n",
       "      <td>-1.68670</td>\n",
       "      <td>-1.65597</td>\n",
       "      <td>-1.60588</td>\n",
       "      <td>-1.86137</td>\n",
       "      <td>-2.55664</td>\n",
       "    </tr>\n",
       "    <tr>\n",
       "      <th>3</th>\n",
       "      <td>-45.8233</td>\n",
       "      <td>0.912742</td>\n",
       "      <td>0.881645</td>\n",
       "      <td>2.0</td>\n",
       "      <td>3.0</td>\n",
       "      <td>0.0</td>\n",
       "      <td>47.3030</td>\n",
       "      <td>13.4276</td>\n",
       "      <td>2.24910</td>\n",
       "      <td>13.2384</td>\n",
       "      <td>...</td>\n",
       "      <td>-2.55637</td>\n",
       "      <td>-2.02611</td>\n",
       "      <td>-1.78542</td>\n",
       "      <td>-1.73276</td>\n",
       "      <td>-1.75152</td>\n",
       "      <td>-1.73208</td>\n",
       "      <td>-1.72948</td>\n",
       "      <td>-1.77093</td>\n",
       "      <td>-2.14797</td>\n",
       "      <td>-2.85713</td>\n",
       "    </tr>\n",
       "    <tr>\n",
       "      <th>4</th>\n",
       "      <td>-44.3392</td>\n",
       "      <td>0.783335</td>\n",
       "      <td>0.881645</td>\n",
       "      <td>1.0</td>\n",
       "      <td>3.0</td>\n",
       "      <td>0.0</td>\n",
       "      <td>49.4975</td>\n",
       "      <td>13.6860</td>\n",
       "      <td>1.56404</td>\n",
       "      <td>13.1139</td>\n",
       "      <td>...</td>\n",
       "      <td>-2.78427</td>\n",
       "      <td>-1.81028</td>\n",
       "      <td>-1.41608</td>\n",
       "      <td>-1.36739</td>\n",
       "      <td>-1.37557</td>\n",
       "      <td>-1.36810</td>\n",
       "      <td>-1.38068</td>\n",
       "      <td>-1.53400</td>\n",
       "      <td>-2.46260</td>\n",
       "      <td>-4.06849</td>\n",
       "    </tr>\n",
       "  </tbody>\n",
       "</table>\n",
       "<p>5 rows × 47 columns</p>\n",
       "</div>"
      ],
      "text/plain": [
       "      lp__  accept_stat__  stepsize__  treedepth__  n_leapfrog__  divergent__  \\\n",
       "0 -44.2736       1.000000    0.881645          2.0           3.0          0.0   \n",
       "1 -45.3979       0.898533    0.881645          2.0           3.0          0.0   \n",
       "2 -45.7694       0.988626    0.881645          2.0           3.0          0.0   \n",
       "3 -45.8233       0.912742    0.881645          2.0           3.0          0.0   \n",
       "4 -44.3392       0.783335    0.881645          1.0           3.0          0.0   \n",
       "\n",
       "   energy__       mu    sigma  alcohol[1]  ...  log_lik[10]  log_lik[11]  \\\n",
       "0   44.7093  13.4906  1.98578     15.0408  ...     -2.62005     -1.95834   \n",
       "1   45.8031  12.9640  2.04997     13.2004  ...     -2.97682     -2.21055   \n",
       "2   45.9421  12.7908  1.98759     13.4727  ...     -3.18224     -2.31627   \n",
       "3   47.3030  13.4276  2.24910     13.2384  ...     -2.55637     -2.02611   \n",
       "4   49.4975  13.6860  1.56404     13.1139  ...     -2.78427     -1.81028   \n",
       "\n",
       "   log_lik[12]  log_lik[13]  log_lik[14]  log_lik[15]  log_lik[16]  \\\n",
       "0     -1.66522     -1.60676     -1.62621     -1.60620     -1.60558   \n",
       "1     -1.81270     -1.68642     -1.74101     -1.68339     -1.66151   \n",
       "2     -1.85011     -1.69079     -1.76157     -1.68670     -1.65597   \n",
       "3     -1.78542     -1.73276     -1.75152     -1.73208     -1.72948   \n",
       "4     -1.41608     -1.36739     -1.37557     -1.36810     -1.38068   \n",
       "\n",
       "   log_lik[17]  log_lik[18]  log_lik[19]  \n",
       "0     -1.66897     -2.17512     -3.10590  \n",
       "1     -1.64079     -1.93907     -2.64706  \n",
       "2     -1.60588     -1.86137     -2.55664  \n",
       "3     -1.77093     -2.14797     -2.85713  \n",
       "4     -1.53400     -2.46260     -4.06849  \n",
       "\n",
       "[5 rows x 47 columns]"
      ]
     },
     "execution_count": 1073,
     "metadata": {},
     "output_type": "execute_result"
    }
   ],
   "source": [
    "df=samp_model2.draws_pd()\n",
    "df.head()"
   ]
  },
  {
   "cell_type": "code",
   "execution_count": 1048,
   "metadata": {},
   "outputs": [
    {
     "data": {
      "text/html": [
       "<div>\n",
       "<style scoped>\n",
       "    .dataframe tbody tr th:only-of-type {\n",
       "        vertical-align: middle;\n",
       "    }\n",
       "\n",
       "    .dataframe tbody tr th {\n",
       "        vertical-align: top;\n",
       "    }\n",
       "\n",
       "    .dataframe thead th {\n",
       "        text-align: right;\n",
       "    }\n",
       "</style>\n",
       "<table border=\"1\" class=\"dataframe\">\n",
       "  <thead>\n",
       "    <tr style=\"text-align: right;\">\n",
       "      <th></th>\n",
       "      <th>mean</th>\n",
       "      <th>sd</th>\n",
       "      <th>hdi_3%</th>\n",
       "      <th>hdi_97%</th>\n",
       "    </tr>\n",
       "  </thead>\n",
       "  <tbody>\n",
       "    <tr>\n",
       "      <th>mu</th>\n",
       "      <td>13.55</td>\n",
       "      <td>0.41</td>\n",
       "      <td>12.78</td>\n",
       "      <td>14.30</td>\n",
       "    </tr>\n",
       "    <tr>\n",
       "      <th>sigma</th>\n",
       "      <td>1.81</td>\n",
       "      <td>0.21</td>\n",
       "      <td>1.44</td>\n",
       "      <td>2.24</td>\n",
       "    </tr>\n",
       "    <tr>\n",
       "      <th>alcohol[0]</th>\n",
       "      <td>13.55</td>\n",
       "      <td>1.94</td>\n",
       "      <td>10.07</td>\n",
       "      <td>17.35</td>\n",
       "    </tr>\n",
       "    <tr>\n",
       "      <th>alcohol[1]</th>\n",
       "      <td>13.58</td>\n",
       "      <td>1.85</td>\n",
       "      <td>10.27</td>\n",
       "      <td>17.32</td>\n",
       "    </tr>\n",
       "    <tr>\n",
       "      <th>alcohol[2]</th>\n",
       "      <td>13.55</td>\n",
       "      <td>1.83</td>\n",
       "      <td>10.15</td>\n",
       "      <td>17.02</td>\n",
       "    </tr>\n",
       "    <tr>\n",
       "      <th>alcohol[3]</th>\n",
       "      <td>13.53</td>\n",
       "      <td>1.87</td>\n",
       "      <td>10.23</td>\n",
       "      <td>17.27</td>\n",
       "    </tr>\n",
       "    <tr>\n",
       "      <th>alcohol[4]</th>\n",
       "      <td>13.54</td>\n",
       "      <td>1.86</td>\n",
       "      <td>10.26</td>\n",
       "      <td>17.17</td>\n",
       "    </tr>\n",
       "    <tr>\n",
       "      <th>alcohol[5]</th>\n",
       "      <td>13.55</td>\n",
       "      <td>1.89</td>\n",
       "      <td>10.11</td>\n",
       "      <td>17.14</td>\n",
       "    </tr>\n",
       "    <tr>\n",
       "      <th>alcohol[6]</th>\n",
       "      <td>13.52</td>\n",
       "      <td>1.86</td>\n",
       "      <td>10.04</td>\n",
       "      <td>16.96</td>\n",
       "    </tr>\n",
       "    <tr>\n",
       "      <th>alcohol[7]</th>\n",
       "      <td>13.55</td>\n",
       "      <td>1.86</td>\n",
       "      <td>9.94</td>\n",
       "      <td>16.95</td>\n",
       "    </tr>\n",
       "    <tr>\n",
       "      <th>alcohol[8]</th>\n",
       "      <td>13.53</td>\n",
       "      <td>1.86</td>\n",
       "      <td>9.84</td>\n",
       "      <td>16.85</td>\n",
       "    </tr>\n",
       "    <tr>\n",
       "      <th>alcohol[9]</th>\n",
       "      <td>13.56</td>\n",
       "      <td>1.89</td>\n",
       "      <td>10.14</td>\n",
       "      <td>17.24</td>\n",
       "    </tr>\n",
       "    <tr>\n",
       "      <th>alcohol[10]</th>\n",
       "      <td>13.57</td>\n",
       "      <td>1.89</td>\n",
       "      <td>10.06</td>\n",
       "      <td>17.25</td>\n",
       "    </tr>\n",
       "    <tr>\n",
       "      <th>alcohol[11]</th>\n",
       "      <td>13.60</td>\n",
       "      <td>1.86</td>\n",
       "      <td>10.01</td>\n",
       "      <td>16.97</td>\n",
       "    </tr>\n",
       "    <tr>\n",
       "      <th>alcohol[12]</th>\n",
       "      <td>13.53</td>\n",
       "      <td>1.89</td>\n",
       "      <td>9.98</td>\n",
       "      <td>17.12</td>\n",
       "    </tr>\n",
       "    <tr>\n",
       "      <th>alcohol[13]</th>\n",
       "      <td>13.61</td>\n",
       "      <td>1.83</td>\n",
       "      <td>10.07</td>\n",
       "      <td>16.82</td>\n",
       "    </tr>\n",
       "    <tr>\n",
       "      <th>alcohol[14]</th>\n",
       "      <td>13.54</td>\n",
       "      <td>1.86</td>\n",
       "      <td>9.83</td>\n",
       "      <td>16.80</td>\n",
       "    </tr>\n",
       "    <tr>\n",
       "      <th>alcohol[15]</th>\n",
       "      <td>13.49</td>\n",
       "      <td>1.87</td>\n",
       "      <td>9.90</td>\n",
       "      <td>17.01</td>\n",
       "    </tr>\n",
       "    <tr>\n",
       "      <th>alcohol[16]</th>\n",
       "      <td>13.57</td>\n",
       "      <td>1.85</td>\n",
       "      <td>9.96</td>\n",
       "      <td>16.92</td>\n",
       "    </tr>\n",
       "    <tr>\n",
       "      <th>alcohol[17]</th>\n",
       "      <td>13.58</td>\n",
       "      <td>1.89</td>\n",
       "      <td>10.09</td>\n",
       "      <td>17.16</td>\n",
       "    </tr>\n",
       "    <tr>\n",
       "      <th>alcohol[18]</th>\n",
       "      <td>13.53</td>\n",
       "      <td>1.86</td>\n",
       "      <td>10.02</td>\n",
       "      <td>16.98</td>\n",
       "    </tr>\n",
       "  </tbody>\n",
       "</table>\n",
       "</div>"
      ],
      "text/plain": [
       "              mean    sd  hdi_3%  hdi_97%\n",
       "mu           13.55  0.41   12.78    14.30\n",
       "sigma         1.81  0.21    1.44     2.24\n",
       "alcohol[0]   13.55  1.94   10.07    17.35\n",
       "alcohol[1]   13.58  1.85   10.27    17.32\n",
       "alcohol[2]   13.55  1.83   10.15    17.02\n",
       "alcohol[3]   13.53  1.87   10.23    17.27\n",
       "alcohol[4]   13.54  1.86   10.26    17.17\n",
       "alcohol[5]   13.55  1.89   10.11    17.14\n",
       "alcohol[6]   13.52  1.86   10.04    16.96\n",
       "alcohol[7]   13.55  1.86    9.94    16.95\n",
       "alcohol[8]   13.53  1.86    9.84    16.85\n",
       "alcohol[9]   13.56  1.89   10.14    17.24\n",
       "alcohol[10]  13.57  1.89   10.06    17.25\n",
       "alcohol[11]  13.60  1.86   10.01    16.97\n",
       "alcohol[12]  13.53  1.89    9.98    17.12\n",
       "alcohol[13]  13.61  1.83   10.07    16.82\n",
       "alcohol[14]  13.54  1.86    9.83    16.80\n",
       "alcohol[15]  13.49  1.87    9.90    17.01\n",
       "alcohol[16]  13.57  1.85    9.96    16.92\n",
       "alcohol[17]  13.58  1.89   10.09    17.16\n",
       "alcohol[18]  13.53  1.86   10.02    16.98"
      ]
     },
     "execution_count": 1048,
     "metadata": {},
     "output_type": "execute_result"
    }
   ],
   "source": [
    "az.summary(samp_model2,var_names=['mu','sigma','alcohol'],round_to=2,kind='stats')"
   ]
  },
  {
   "cell_type": "markdown",
   "metadata": {},
   "source": [
    "Using our model we can try to predict avarage alcohol consumption for following year and compare it to external data for 2017, that is 11.19 litre pre person.\\\n",
    "As you can see below, our model overestimated the value for more than 2 liters, which is not a good result. the good news is that the predicted value is within the confidence interval."
   ]
  },
  {
   "cell_type": "code",
   "execution_count": 1050,
   "metadata": {},
   "outputs": [
    {
     "name": "stdout",
     "output_type": "stream",
     "text": [
      "Median fo predicted consumption = 13.554549999999999\n",
      "Confidence interval (90%) = [ 10.4727 16.6059 ]\n"
     ]
    }
   ],
   "source": [
    "median_alcohol = np.median(alcohol_sim.flatten())\n",
    "cinf_alcohol_sim = az.hdi(alcohol_sim.flatten(),0.90)\n",
    "print('Median fo predicted consumption =', median_alcohol)\n",
    "print('Confidence interval (90%) = [',*cinf_alcohol_sim,']' )"
   ]
  },
  {
   "cell_type": "markdown",
   "metadata": {},
   "source": [
    "To graphically represent the results, the plot_posterior function from the arviz library was used"
   ]
  },
  {
   "cell_type": "code",
   "execution_count": 1054,
   "metadata": {},
   "outputs": [
    {
     "name": "stderr",
     "output_type": "stream",
     "text": [
      "p:\\Users\\mjszo\\anaconda3\\envs\\data\\lib\\site-packages\\arviz\\data\\base.py:216: UserWarning: More chains (4000) than draws (19). Passed array should have shape (chains, draws, *shape)\n",
      "  warnings.warn(\n",
      "p:\\Users\\mjszo\\anaconda3\\envs\\data\\lib\\site-packages\\arviz\\data\\base.py:216: UserWarning: More chains (4000) than draws (19). Passed array should have shape (chains, draws, *shape)\n",
      "  warnings.warn(\n"
     ]
    },
    {
     "data": {
      "image/png": "[encoded data removed]",
      "text/plain": [
       "<Figure size 432x288 with 1 Axes>"
      ]
     },
     "metadata": {
      "needs_background": "light"
     },
     "output_type": "display_data"
    },
    {
     "data": {
      "image/png": "[encoded data removed]",
      "text/plain": [
       "<Figure size 432x288 with 1 Axes>"
      ]
     },
     "metadata": {
      "needs_background": "light"
     },
     "output_type": "display_data"
    }
   ],
   "source": [
    "ax1 = az.plot_posterior(alcohol_sim,round_to=2,kind='hist', bins=100,ref_val=DATA_2017)\n",
    "ax2 = az.plot_posterior(alcohol_sim,round_to=2,kind='kde', bins=100,ref_val=DATA_2017)"
   ]
  },
  {
   "cell_type": "markdown",
   "metadata": {},
   "source": [
    "### Quadratic regression model"
   ]
  },
  {
   "cell_type": "markdown",
   "metadata": {},
   "source": [
    "The next model used for our project is model quadratic regression model"
   ]
  },
  {
   "cell_type": "code",
   "execution_count": 1057,
   "metadata": {},
   "outputs": [
    {
     "data": {
      "text/plain": [
       "Text(0.5, 1.0, 'Alcohol consumption in Moskow')"
      ]
     },
     "execution_count": 1057,
     "metadata": {},
     "output_type": "execute_result"
    },
    {
     "data": {
      "image/png": "[encoded data removed]",
      "text/plain": [
       "<Figure size 1008x576 with 1 Axes>"
      ]
     },
     "metadata": {
      "needs_background": "light"
     },
     "output_type": "display_data"
    }
   ],
   "source": [
    "fig = plt.figure(figsize=(14,8))\n",
    "plt.grid(True)\n",
    "plt.grid\n",
    "plt.plot(data_years,data_gdp,color='0.75')\n",
    "plt.plot(data_years,data_values,color='k')\n",
    "plt.xlabel('Year')\n",
    "plt.ylabel('Liters')\n",
    "plt.title('Alcohol consumption in Moskow')\n"
   ]
  },
  {
   "cell_type": "code",
   "execution_count": 1074,
   "metadata": {},
   "outputs": [
    {
     "name": "stdout",
     "output_type": "stream",
     "text": [
      "data {\n",
      "    int N;\n",
      "    real gdp[N];\n",
      "}\n",
      "\n",
      "generated quantities {\n",
      "   real alpha = normal_rng(12,2.5);\n",
      "   real beta = fabs(normal_rng(0,0.01));\n",
      "   real beta2 = -fabs(normal_rng(0,1));\n",
      "   real sigma = fabs(normal_rng(0,0.6));\n",
      "   real alcohol[N];\n",
      "   for (i in 1:N){\n",
      "   alcohol[N] =  normal_rng(gdp[N]*beta+gdp[N]^2*beta2+alpha, sigma);\n",
      "}}\n",
      "\n"
     ]
    }
   ],
   "source": [
    "with open('regre_pre.stan','r') as file:\n",
    "    print(file.read())"
   ]
  },
  {
   "cell_type": "code",
   "execution_count": 1075,
   "metadata": {},
   "outputs": [
    {
     "name": "stderr",
     "output_type": "stream",
     "text": [
      "INFO:cmdstanpy:found newer exe file, not recompiling\n"
     ]
    }
   ],
   "source": [
    "model_regre = CmdStanModel(stan_file='regre_pre.stan')"
   ]
  },
  {
   "cell_type": "code",
   "execution_count": 1076,
   "metadata": {},
   "outputs": [
    {
     "name": "stderr",
     "output_type": "stream",
     "text": [
      "INFO:cmdstanpy:CmdStan start processing\n",
      "chain 1 |\u001b[34m██████████\u001b[0m| 00:00 Sampling completed"
     ]
    },
    {
     "name": "stdout",
     "output_type": "stream",
     "text": [
      "                                                                                "
     ]
    },
    {
     "name": "stderr",
     "output_type": "stream",
     "text": [
      "\n",
      "INFO:cmdstanpy:CmdStan done processing.\n"
     ]
    },
    {
     "name": "stdout",
     "output_type": "stream",
     "text": [
      "\n"
     ]
    }
   ],
   "source": [
    "data_ppc={'N':50, 'gdp':np.linspace(0,20000)}\n",
    "samp_model3 = model_regre.sample(data=data_ppc,iter_sampling=1000, iter_warmup=0, chains=1, fixed_param=True, seed=22042020,refresh=1000)"
   ]
  },
  {
   "cell_type": "code",
   "execution_count": 1077,
   "metadata": {},
   "outputs": [],
   "source": [
    "alpha_sim=samp_model3.stan_variable('alpha')\n",
    "beta_sim=samp_model3.stan_variable('beta')\n",
    "beta2_sim=samp_model3.stan_variable('beta2')\n",
    "sigma_sim=samp_model3.stan_variable('sigma')\n",
    "alcohol=samp_model3.stan_variable('alcohol')"
   ]
  },
  {
   "cell_type": "markdown",
   "metadata": {},
   "source": [
    "Some data standarization"
   ]
  },
  {
   "cell_type": "code",
   "execution_count": 1078,
   "metadata": {},
   "outputs": [],
   "source": [
    "c_gdp=data_gdp-data_gdp.mean()\n",
    "s_gdp=c_gdp/data_gdp.std()"
   ]
  },
  {
   "cell_type": "markdown",
   "metadata": {},
   "source": [
    "The points reprezenting alcohol consumption as a function of GPD was plotted alongside samples generated from prior model. As can it be\\\n",
    "seen quadratic model is better then liner one and in some way fits the data"
   ]
  },
  {
   "cell_type": "code",
   "execution_count": 1080,
   "metadata": {},
   "outputs": [
    {
     "data": {
      "text/plain": [
       "<matplotlib.collections.PathCollection at 0x20132a8f2b0>"
      ]
     },
     "execution_count": 1080,
     "metadata": {},
     "output_type": "execute_result"
    },
    {
     "data": {
      "image/png": "[encoded data removed]",
      "text/plain": [
       "<Figure size 1008x576 with 1 Axes>"
      ]
     },
     "metadata": {
      "needs_background": "light"
     },
     "output_type": "display_data"
    }
   ],
   "source": [
    "fig, axes = plt.subplots(1,1,figsize=(14,8))\n",
    "axes.hlines([0,25],xmin=0,xmax=20000,linestyle='--',color='r')\n",
    "for i in range(100):\n",
    "    axes.plot(data_gdp,alpha_sim[i]+beta_sim[i]*s_gdp+beta2_sim[i]*s_gdp*s_gdp,c='0.75')\n",
    "axes.set_ylabel('consumption [L]')\n",
    "axes.set_xlabel('GDP [$]')\n",
    "plt.scatter(data_gdp,data_values,zorder=10,c='r')"
   ]
  },
  {
   "cell_type": "markdown",
   "metadata": {},
   "source": [
    "The prepared model does not fully match the data but overall trend can be seen."
   ]
  },
  {
   "cell_type": "markdown",
   "metadata": {},
   "source": [
    "### POSTERIOR - quadratic model"
   ]
  },
  {
   "cell_type": "code",
   "execution_count": 1082,
   "metadata": {},
   "outputs": [
    {
     "name": "stdout",
     "output_type": "stream",
     "text": [
      "data {\n",
      "    int N;\n",
      "    real gdp[N];\n",
      "    real alcohol_val[N];\n",
      "}\n",
      "parameters{\n",
      "    real alpha;\n",
      "    real<upper=0> beta;\n",
      "    real<upper=0> beta2;\n",
      "    real<lower=0> sigma;\n",
      "}\n",
      "\n",
      "transformed parameters {\n",
      "   vector[N] mu;\n",
      "   for (i in 1:N){\n",
      "    mu[i]=gdp[i]*beta+gdp[i]*gdp[i]*beta2+alpha;\n",
      "   }\n",
      "}\n",
      "\n",
      "model{\n",
      "    alpha ~ normal(12,2.5);\n",
      "    beta ~ normal(0,0.01);\n",
      "    beta2 ~ normal(0,1.1);\n",
      "    sigma ~ normal(0,0.6);\n",
      "    for (i in 1:N){\n",
      "    alcohol_val[i] ~ normal(mu[i],sigma); \n",
      "}}\n",
      "\n",
      "generated quantities {\n",
      "   real alcohol[N];\n",
      "   real log_lik;\n",
      "   #log_lik[i] =  normal_lpdf(alcohol_val[i]| mu[i], sigma);\n",
      "   for (i in 1:N){\n",
      "    alcohol[i] =  normal_rng(mu[i], sigma);\n",
      "    log_lik[i] =  normal_lpdf(alcohol_val[i]| mu[i], sigma);\n",
      "}\n",
      "}\n"
     ]
    }
   ],
   "source": [
    "with open('regre_post.stan','r') as file:\n",
    "    print(file.read())"
   ]
  },
  {
   "cell_type": "code",
   "execution_count": 1092,
   "metadata": {},
   "outputs": [
    {
     "name": "stderr",
     "output_type": "stream",
     "text": [
      "INFO:cmdstanpy:found newer exe file, not recompiling\n"
     ]
    }
   ],
   "source": [
    "fit_regre = CmdStanModel(stan_file='regre_post.stan')"
   ]
  },
  {
   "cell_type": "code",
   "execution_count": 1103,
   "metadata": {},
   "outputs": [
    {
     "name": "stderr",
     "output_type": "stream",
     "text": [
      "INFO:cmdstanpy:CmdStan start processing\n",
      "chain 1 |\u001b[33m          \u001b[0m| 00:00 Status\n",
      "\u001b[A\n",
      "\n",
      "chain 1 |\u001b[33m███▋      \u001b[0m| 00:00 Iteration:  600 / 2000 [ 30%]  (Warmup)\n",
      "\u001b[A\n",
      "\n",
      "chain 1 |\u001b[34m███████▎  \u001b[0m| 00:00 Iteration: 1300 / 2000 [ 65%]  (Sampling)\n",
      "\u001b[A\n",
      "\n",
      "chain 1 |\u001b[34m██████████\u001b[0m| 00:00 Sampling completed                       \n",
      "chain 2 |\u001b[34m██████████\u001b[0m| 00:00 Sampling completed                       \n",
      "chain 3 |\u001b[34m██████████\u001b[0m| 00:00 Sampling completed                       \n",
      "chain 4 |\u001b[34m██████████\u001b[0m| 00:00 Sampling completed                       "
     ]
    },
    {
     "name": "stdout",
     "output_type": "stream",
     "text": [
      "                                                                                                                                                                                                                                                                                                                                "
     ]
    },
    {
     "name": "stderr",
     "output_type": "stream",
     "text": [
      "\n",
      "INFO:cmdstanpy:CmdStan done processing.\n"
     ]
    },
    {
     "name": "stdout",
     "output_type": "stream",
     "text": [
      "\n"
     ]
    }
   ],
   "source": [
    "data = dict(N=len(data_years), gdp=data_gdp, alcohol_val=data_values)\n",
    "samp_model4 = fit_regre.sample(data=data,seed=29042020)\n",
    "alpha_sim=samp_model4.stan_variable('alpha')\n",
    "mu_sim=samp_model4.stan_variable('mu')\n",
    "beta_sim=samp_model4.stan_variable('beta')\n",
    "sigma_sim=samp_model4.stan_variable('sigma')\n",
    "alcohol_sim=samp_model4.stan_variable('alcohol')"
   ]
  },
  {
   "cell_type": "code",
   "execution_count": 1104,
   "metadata": {},
   "outputs": [
    {
     "data": {
      "text/plain": [
       "'Processing csv files: C:\\\\Users\\\\mjszo\\\\AppData\\\\Local\\\\Temp\\\\tmpt7zigt82\\\\regre_post-20220613193513_1.csv, C:\\\\Users\\\\mjszo\\\\AppData\\\\Local\\\\Temp\\\\tmpt7zigt82\\\\regre_post-20220613193513_2.csv, C:\\\\Users\\\\mjszo\\\\AppData\\\\Local\\\\Temp\\\\tmpt7zigt82\\\\regre_post-20220613193513_3.csv, C:\\\\Users\\\\mjszo\\\\AppData\\\\Local\\\\Temp\\\\tmpt7zigt82\\\\regre_post-20220613193513_4.csv\\n\\nChecking sampler transitions treedepth.\\nTreedepth satisfactory for all transitions.\\n\\nChecking sampler transitions for divergences.\\nNo divergent transitions found.\\n\\nChecking E-BFMI - sampler transitions HMC potential energy.\\nE-BFMI satisfactory.\\n\\nEffective sample size satisfactory.\\n\\nSplit R-hat values satisfactory all parameters.\\n\\nProcessing complete, no problems detected.\\n'"
      ]
     },
     "execution_count": 1104,
     "metadata": {},
     "output_type": "execute_result"
    }
   ],
   "source": [
    "samp_model4.diagnose()"
   ]
  },
  {
   "cell_type": "markdown",
   "metadata": {},
   "source": [
    "Having fitted the model with the data diagnose function was has been called. The output of this test point that model and parameters were chosen properly.\\\n",
    "No divergences occures during samplig, the size of effective samples are good and the R-hat values are satisfactory for all parameter"
   ]
  },
  {
   "cell_type": "code",
   "execution_count": 1105,
   "metadata": {},
   "outputs": [
    {
     "data": {
      "text/html": [
       "<div>\n",
       "<style scoped>\n",
       "    .dataframe tbody tr th:only-of-type {\n",
       "        vertical-align: middle;\n",
       "    }\n",
       "\n",
       "    .dataframe tbody tr th {\n",
       "        vertical-align: top;\n",
       "    }\n",
       "\n",
       "    .dataframe thead th {\n",
       "        text-align: right;\n",
       "    }\n",
       "</style>\n",
       "<table border=\"1\" class=\"dataframe\">\n",
       "  <thead>\n",
       "    <tr style=\"text-align: right;\">\n",
       "      <th></th>\n",
       "      <th>lp__</th>\n",
       "      <th>accept_stat__</th>\n",
       "      <th>stepsize__</th>\n",
       "      <th>treedepth__</th>\n",
       "      <th>n_leapfrog__</th>\n",
       "      <th>divergent__</th>\n",
       "      <th>energy__</th>\n",
       "      <th>alpha</th>\n",
       "      <th>beta</th>\n",
       "      <th>beta2</th>\n",
       "      <th>...</th>\n",
       "      <th>log_lik[10]</th>\n",
       "      <th>log_lik[11]</th>\n",
       "      <th>log_lik[12]</th>\n",
       "      <th>log_lik[13]</th>\n",
       "      <th>log_lik[14]</th>\n",
       "      <th>log_lik[15]</th>\n",
       "      <th>log_lik[16]</th>\n",
       "      <th>log_lik[17]</th>\n",
       "      <th>log_lik[18]</th>\n",
       "      <th>log_lik[19]</th>\n",
       "    </tr>\n",
       "  </thead>\n",
       "  <tbody>\n",
       "    <tr>\n",
       "      <th>0</th>\n",
       "      <td>-58.2804</td>\n",
       "      <td>0.769240</td>\n",
       "      <td>0.327691</td>\n",
       "      <td>3.0</td>\n",
       "      <td>15.0</td>\n",
       "      <td>0.0</td>\n",
       "      <td>62.7565</td>\n",
       "      <td>14.1488</td>\n",
       "      <td>-0.000010</td>\n",
       "      <td>-2.583070e-09</td>\n",
       "      <td>...</td>\n",
       "      <td>-2.67007</td>\n",
       "      <td>-1.81265</td>\n",
       "      <td>-1.35730</td>\n",
       "      <td>-1.34041</td>\n",
       "      <td>-1.37639</td>\n",
       "      <td>-1.34660</td>\n",
       "      <td>-1.33854</td>\n",
       "      <td>-1.44567</td>\n",
       "      <td>-2.64714</td>\n",
       "      <td>-4.48960</td>\n",
       "    </tr>\n",
       "    <tr>\n",
       "      <th>1</th>\n",
       "      <td>-57.5257</td>\n",
       "      <td>0.997054</td>\n",
       "      <td>0.327691</td>\n",
       "      <td>4.0</td>\n",
       "      <td>15.0</td>\n",
       "      <td>0.0</td>\n",
       "      <td>59.6079</td>\n",
       "      <td>14.3304</td>\n",
       "      <td>-0.000060</td>\n",
       "      <td>-4.278960e-09</td>\n",
       "      <td>...</td>\n",
       "      <td>-2.66972</td>\n",
       "      <td>-2.16690</td>\n",
       "      <td>-1.65667</td>\n",
       "      <td>-1.61921</td>\n",
       "      <td>-1.81552</td>\n",
       "      <td>-1.78259</td>\n",
       "      <td>-1.76383</td>\n",
       "      <td>-1.60075</td>\n",
       "      <td>-2.12952</td>\n",
       "      <td>-3.11595</td>\n",
       "    </tr>\n",
       "    <tr>\n",
       "      <th>2</th>\n",
       "      <td>-57.2155</td>\n",
       "      <td>0.995131</td>\n",
       "      <td>0.327691</td>\n",
       "      <td>3.0</td>\n",
       "      <td>7.0</td>\n",
       "      <td>0.0</td>\n",
       "      <td>58.0077</td>\n",
       "      <td>14.4425</td>\n",
       "      <td>-0.000060</td>\n",
       "      <td>-3.438160e-09</td>\n",
       "      <td>...</td>\n",
       "      <td>-2.57323</td>\n",
       "      <td>-2.05075</td>\n",
       "      <td>-1.59884</td>\n",
       "      <td>-1.56948</td>\n",
       "      <td>-1.70714</td>\n",
       "      <td>-1.67297</td>\n",
       "      <td>-1.65492</td>\n",
       "      <td>-1.56648</td>\n",
       "      <td>-2.23970</td>\n",
       "      <td>-3.35741</td>\n",
       "    </tr>\n",
       "    <tr>\n",
       "      <th>3</th>\n",
       "      <td>-57.2414</td>\n",
       "      <td>0.953633</td>\n",
       "      <td>0.327691</td>\n",
       "      <td>3.0</td>\n",
       "      <td>7.0</td>\n",
       "      <td>0.0</td>\n",
       "      <td>58.9436</td>\n",
       "      <td>14.5325</td>\n",
       "      <td>-0.000047</td>\n",
       "      <td>-6.299650e-09</td>\n",
       "      <td>...</td>\n",
       "      <td>-2.64940</td>\n",
       "      <td>-2.13897</td>\n",
       "      <td>-1.55760</td>\n",
       "      <td>-1.53134</td>\n",
       "      <td>-1.78570</td>\n",
       "      <td>-1.76604</td>\n",
       "      <td>-1.75291</td>\n",
       "      <td>-1.52193</td>\n",
       "      <td>-2.23328</td>\n",
       "      <td>-3.46819</td>\n",
       "    </tr>\n",
       "    <tr>\n",
       "      <th>4</th>\n",
       "      <td>-59.5113</td>\n",
       "      <td>0.780452</td>\n",
       "      <td>0.327691</td>\n",
       "      <td>3.0</td>\n",
       "      <td>11.0</td>\n",
       "      <td>0.0</td>\n",
       "      <td>60.1535</td>\n",
       "      <td>13.9041</td>\n",
       "      <td>-0.000021</td>\n",
       "      <td>-2.065410e-10</td>\n",
       "      <td>...</td>\n",
       "      <td>-2.67230</td>\n",
       "      <td>-1.85290</td>\n",
       "      <td>-1.47065</td>\n",
       "      <td>-1.43047</td>\n",
       "      <td>-1.45154</td>\n",
       "      <td>-1.43093</td>\n",
       "      <td>-1.43159</td>\n",
       "      <td>-1.53990</td>\n",
       "      <td>-2.39547</td>\n",
       "      <td>-3.82892</td>\n",
       "    </tr>\n",
       "  </tbody>\n",
       "</table>\n",
       "<p>5 rows × 68 columns</p>\n",
       "</div>"
      ],
      "text/plain": [
       "      lp__  accept_stat__  stepsize__  treedepth__  n_leapfrog__  divergent__  \\\n",
       "0 -58.2804       0.769240    0.327691          3.0          15.0          0.0   \n",
       "1 -57.5257       0.997054    0.327691          4.0          15.0          0.0   \n",
       "2 -57.2155       0.995131    0.327691          3.0           7.0          0.0   \n",
       "3 -57.2414       0.953633    0.327691          3.0           7.0          0.0   \n",
       "4 -59.5113       0.780452    0.327691          3.0          11.0          0.0   \n",
       "\n",
       "   energy__    alpha      beta         beta2  ...  log_lik[10]  log_lik[11]  \\\n",
       "0   62.7565  14.1488 -0.000010 -2.583070e-09  ...     -2.67007     -1.81265   \n",
       "1   59.6079  14.3304 -0.000060 -4.278960e-09  ...     -2.66972     -2.16690   \n",
       "2   58.0077  14.4425 -0.000060 -3.438160e-09  ...     -2.57323     -2.05075   \n",
       "3   58.9436  14.5325 -0.000047 -6.299650e-09  ...     -2.64940     -2.13897   \n",
       "4   60.1535  13.9041 -0.000021 -2.065410e-10  ...     -2.67230     -1.85290   \n",
       "\n",
       "   log_lik[12]  log_lik[13]  log_lik[14]  log_lik[15]  log_lik[16]  \\\n",
       "0     -1.35730     -1.34041     -1.37639     -1.34660     -1.33854   \n",
       "1     -1.65667     -1.61921     -1.81552     -1.78259     -1.76383   \n",
       "2     -1.59884     -1.56948     -1.70714     -1.67297     -1.65492   \n",
       "3     -1.55760     -1.53134     -1.78570     -1.76604     -1.75291   \n",
       "4     -1.47065     -1.43047     -1.45154     -1.43093     -1.43159   \n",
       "\n",
       "   log_lik[17]  log_lik[18]  log_lik[19]  \n",
       "0     -1.44567     -2.64714     -4.48960  \n",
       "1     -1.60075     -2.12952     -3.11595  \n",
       "2     -1.56648     -2.23970     -3.35741  \n",
       "3     -1.52193     -2.23328     -3.46819  \n",
       "4     -1.53990     -2.39547     -3.82892  \n",
       "\n",
       "[5 rows x 68 columns]"
      ]
     },
     "execution_count": 1105,
     "metadata": {},
     "output_type": "execute_result"
    }
   ],
   "source": [
    "df=samp_model4.draws_pd()\n",
    "df.head()"
   ]
  },
  {
   "cell_type": "code",
   "execution_count": 1106,
   "metadata": {},
   "outputs": [
    {
     "data": {
      "text/html": [
       "<div>\n",
       "<style scoped>\n",
       "    .dataframe tbody tr th:only-of-type {\n",
       "        vertical-align: middle;\n",
       "    }\n",
       "\n",
       "    .dataframe tbody tr th {\n",
       "        vertical-align: top;\n",
       "    }\n",
       "\n",
       "    .dataframe thead th {\n",
       "        text-align: right;\n",
       "    }\n",
       "</style>\n",
       "<table border=\"1\" class=\"dataframe\">\n",
       "  <thead>\n",
       "    <tr style=\"text-align: right;\">\n",
       "      <th></th>\n",
       "      <th>mean</th>\n",
       "      <th>sd</th>\n",
       "      <th>hdi_3%</th>\n",
       "      <th>hdi_97%</th>\n",
       "    </tr>\n",
       "  </thead>\n",
       "  <tbody>\n",
       "    <tr>\n",
       "      <th>mu[0]</th>\n",
       "      <td>14.19</td>\n",
       "      <td>0.49</td>\n",
       "      <td>13.24</td>\n",
       "      <td>15.10</td>\n",
       "    </tr>\n",
       "    <tr>\n",
       "      <th>mu[1]</th>\n",
       "      <td>14.21</td>\n",
       "      <td>0.50</td>\n",
       "      <td>13.24</td>\n",
       "      <td>15.14</td>\n",
       "    </tr>\n",
       "    <tr>\n",
       "      <th>mu[2]</th>\n",
       "      <td>14.19</td>\n",
       "      <td>0.50</td>\n",
       "      <td>13.22</td>\n",
       "      <td>15.09</td>\n",
       "    </tr>\n",
       "    <tr>\n",
       "      <th>mu[3]</th>\n",
       "      <td>14.17</td>\n",
       "      <td>0.49</td>\n",
       "      <td>13.22</td>\n",
       "      <td>15.07</td>\n",
       "    </tr>\n",
       "    <tr>\n",
       "      <th>mu[4]</th>\n",
       "      <td>14.16</td>\n",
       "      <td>0.49</td>\n",
       "      <td>13.22</td>\n",
       "      <td>15.04</td>\n",
       "    </tr>\n",
       "    <tr>\n",
       "      <th>mu[5]</th>\n",
       "      <td>14.12</td>\n",
       "      <td>0.48</td>\n",
       "      <td>13.17</td>\n",
       "      <td>14.96</td>\n",
       "    </tr>\n",
       "    <tr>\n",
       "      <th>mu[6]</th>\n",
       "      <td>14.05</td>\n",
       "      <td>0.46</td>\n",
       "      <td>13.15</td>\n",
       "      <td>14.89</td>\n",
       "    </tr>\n",
       "    <tr>\n",
       "      <th>mu[7]</th>\n",
       "      <td>13.96</td>\n",
       "      <td>0.44</td>\n",
       "      <td>13.11</td>\n",
       "      <td>14.77</td>\n",
       "    </tr>\n",
       "    <tr>\n",
       "      <th>mu[8]</th>\n",
       "      <td>13.83</td>\n",
       "      <td>0.43</td>\n",
       "      <td>13.00</td>\n",
       "      <td>14.60</td>\n",
       "    </tr>\n",
       "    <tr>\n",
       "      <th>mu[9]</th>\n",
       "      <td>13.63</td>\n",
       "      <td>0.42</td>\n",
       "      <td>12.87</td>\n",
       "      <td>14.42</td>\n",
       "    </tr>\n",
       "    <tr>\n",
       "      <th>mu[10]</th>\n",
       "      <td>13.35</td>\n",
       "      <td>0.46</td>\n",
       "      <td>12.49</td>\n",
       "      <td>14.19</td>\n",
       "    </tr>\n",
       "    <tr>\n",
       "      <th>mu[11]</th>\n",
       "      <td>13.68</td>\n",
       "      <td>0.42</td>\n",
       "      <td>12.91</td>\n",
       "      <td>14.47</td>\n",
       "    </tr>\n",
       "    <tr>\n",
       "      <th>mu[12]</th>\n",
       "      <td>13.46</td>\n",
       "      <td>0.44</td>\n",
       "      <td>12.63</td>\n",
       "      <td>14.26</td>\n",
       "    </tr>\n",
       "    <tr>\n",
       "      <th>mu[13]</th>\n",
       "      <td>13.02</td>\n",
       "      <td>0.56</td>\n",
       "      <td>11.93</td>\n",
       "      <td>14.01</td>\n",
       "    </tr>\n",
       "    <tr>\n",
       "      <th>mu[14]</th>\n",
       "      <td>12.86</td>\n",
       "      <td>0.62</td>\n",
       "      <td>11.70</td>\n",
       "      <td>13.99</td>\n",
       "    </tr>\n",
       "    <tr>\n",
       "      <th>mu[15]</th>\n",
       "      <td>12.78</td>\n",
       "      <td>0.66</td>\n",
       "      <td>11.50</td>\n",
       "      <td>13.90</td>\n",
       "    </tr>\n",
       "    <tr>\n",
       "      <th>mu[16]</th>\n",
       "      <td>13.04</td>\n",
       "      <td>0.55</td>\n",
       "      <td>11.97</td>\n",
       "      <td>14.02</td>\n",
       "    </tr>\n",
       "    <tr>\n",
       "      <th>mu[17]</th>\n",
       "      <td>13.60</td>\n",
       "      <td>0.42</td>\n",
       "      <td>12.84</td>\n",
       "      <td>14.40</td>\n",
       "    </tr>\n",
       "    <tr>\n",
       "      <th>mu[18]</th>\n",
       "      <td>13.66</td>\n",
       "      <td>0.42</td>\n",
       "      <td>12.90</td>\n",
       "      <td>14.45</td>\n",
       "    </tr>\n",
       "    <tr>\n",
       "      <th>sigma</th>\n",
       "      <td>1.78</td>\n",
       "      <td>0.22</td>\n",
       "      <td>1.40</td>\n",
       "      <td>2.22</td>\n",
       "    </tr>\n",
       "    <tr>\n",
       "      <th>alcohol[0]</th>\n",
       "      <td>14.14</td>\n",
       "      <td>1.88</td>\n",
       "      <td>10.60</td>\n",
       "      <td>17.81</td>\n",
       "    </tr>\n",
       "    <tr>\n",
       "      <th>alcohol[1]</th>\n",
       "      <td>14.25</td>\n",
       "      <td>1.83</td>\n",
       "      <td>10.65</td>\n",
       "      <td>17.56</td>\n",
       "    </tr>\n",
       "    <tr>\n",
       "      <th>alcohol[2]</th>\n",
       "      <td>14.15</td>\n",
       "      <td>1.84</td>\n",
       "      <td>10.68</td>\n",
       "      <td>17.60</td>\n",
       "    </tr>\n",
       "    <tr>\n",
       "      <th>alcohol[3]</th>\n",
       "      <td>14.18</td>\n",
       "      <td>1.85</td>\n",
       "      <td>10.68</td>\n",
       "      <td>17.66</td>\n",
       "    </tr>\n",
       "    <tr>\n",
       "      <th>alcohol[4]</th>\n",
       "      <td>14.14</td>\n",
       "      <td>1.88</td>\n",
       "      <td>10.65</td>\n",
       "      <td>17.71</td>\n",
       "    </tr>\n",
       "    <tr>\n",
       "      <th>alcohol[5]</th>\n",
       "      <td>14.12</td>\n",
       "      <td>1.84</td>\n",
       "      <td>10.80</td>\n",
       "      <td>17.79</td>\n",
       "    </tr>\n",
       "    <tr>\n",
       "      <th>alcohol[6]</th>\n",
       "      <td>14.04</td>\n",
       "      <td>1.82</td>\n",
       "      <td>10.55</td>\n",
       "      <td>17.39</td>\n",
       "    </tr>\n",
       "    <tr>\n",
       "      <th>alcohol[7]</th>\n",
       "      <td>13.99</td>\n",
       "      <td>1.84</td>\n",
       "      <td>10.67</td>\n",
       "      <td>17.56</td>\n",
       "    </tr>\n",
       "    <tr>\n",
       "      <th>alcohol[8]</th>\n",
       "      <td>13.84</td>\n",
       "      <td>1.88</td>\n",
       "      <td>10.53</td>\n",
       "      <td>17.62</td>\n",
       "    </tr>\n",
       "    <tr>\n",
       "      <th>alcohol[9]</th>\n",
       "      <td>13.58</td>\n",
       "      <td>1.82</td>\n",
       "      <td>10.17</td>\n",
       "      <td>17.00</td>\n",
       "    </tr>\n",
       "    <tr>\n",
       "      <th>alcohol[10]</th>\n",
       "      <td>13.38</td>\n",
       "      <td>1.86</td>\n",
       "      <td>9.81</td>\n",
       "      <td>16.85</td>\n",
       "    </tr>\n",
       "    <tr>\n",
       "      <th>alcohol[11]</th>\n",
       "      <td>13.63</td>\n",
       "      <td>1.86</td>\n",
       "      <td>10.25</td>\n",
       "      <td>17.20</td>\n",
       "    </tr>\n",
       "    <tr>\n",
       "      <th>alcohol[12]</th>\n",
       "      <td>13.47</td>\n",
       "      <td>1.85</td>\n",
       "      <td>10.02</td>\n",
       "      <td>17.00</td>\n",
       "    </tr>\n",
       "    <tr>\n",
       "      <th>alcohol[13]</th>\n",
       "      <td>13.05</td>\n",
       "      <td>1.88</td>\n",
       "      <td>9.56</td>\n",
       "      <td>16.69</td>\n",
       "    </tr>\n",
       "    <tr>\n",
       "      <th>alcohol[14]</th>\n",
       "      <td>12.90</td>\n",
       "      <td>1.93</td>\n",
       "      <td>9.05</td>\n",
       "      <td>16.29</td>\n",
       "    </tr>\n",
       "    <tr>\n",
       "      <th>alcohol[15]</th>\n",
       "      <td>12.78</td>\n",
       "      <td>1.91</td>\n",
       "      <td>9.11</td>\n",
       "      <td>16.26</td>\n",
       "    </tr>\n",
       "    <tr>\n",
       "      <th>alcohol[16]</th>\n",
       "      <td>13.03</td>\n",
       "      <td>1.87</td>\n",
       "      <td>9.49</td>\n",
       "      <td>16.50</td>\n",
       "    </tr>\n",
       "    <tr>\n",
       "      <th>alcohol[17]</th>\n",
       "      <td>13.61</td>\n",
       "      <td>1.84</td>\n",
       "      <td>10.19</td>\n",
       "      <td>17.17</td>\n",
       "    </tr>\n",
       "    <tr>\n",
       "      <th>alcohol[18]</th>\n",
       "      <td>13.67</td>\n",
       "      <td>1.85</td>\n",
       "      <td>10.21</td>\n",
       "      <td>17.15</td>\n",
       "    </tr>\n",
       "  </tbody>\n",
       "</table>\n",
       "</div>"
      ],
      "text/plain": [
       "              mean    sd  hdi_3%  hdi_97%\n",
       "mu[0]        14.19  0.49   13.24    15.10\n",
       "mu[1]        14.21  0.50   13.24    15.14\n",
       "mu[2]        14.19  0.50   13.22    15.09\n",
       "mu[3]        14.17  0.49   13.22    15.07\n",
       "mu[4]        14.16  0.49   13.22    15.04\n",
       "mu[5]        14.12  0.48   13.17    14.96\n",
       "mu[6]        14.05  0.46   13.15    14.89\n",
       "mu[7]        13.96  0.44   13.11    14.77\n",
       "mu[8]        13.83  0.43   13.00    14.60\n",
       "mu[9]        13.63  0.42   12.87    14.42\n",
       "mu[10]       13.35  0.46   12.49    14.19\n",
       "mu[11]       13.68  0.42   12.91    14.47\n",
       "mu[12]       13.46  0.44   12.63    14.26\n",
       "mu[13]       13.02  0.56   11.93    14.01\n",
       "mu[14]       12.86  0.62   11.70    13.99\n",
       "mu[15]       12.78  0.66   11.50    13.90\n",
       "mu[16]       13.04  0.55   11.97    14.02\n",
       "mu[17]       13.60  0.42   12.84    14.40\n",
       "mu[18]       13.66  0.42   12.90    14.45\n",
       "sigma         1.78  0.22    1.40     2.22\n",
       "alcohol[0]   14.14  1.88   10.60    17.81\n",
       "alcohol[1]   14.25  1.83   10.65    17.56\n",
       "alcohol[2]   14.15  1.84   10.68    17.60\n",
       "alcohol[3]   14.18  1.85   10.68    17.66\n",
       "alcohol[4]   14.14  1.88   10.65    17.71\n",
       "alcohol[5]   14.12  1.84   10.80    17.79\n",
       "alcohol[6]   14.04  1.82   10.55    17.39\n",
       "alcohol[7]   13.99  1.84   10.67    17.56\n",
       "alcohol[8]   13.84  1.88   10.53    17.62\n",
       "alcohol[9]   13.58  1.82   10.17    17.00\n",
       "alcohol[10]  13.38  1.86    9.81    16.85\n",
       "alcohol[11]  13.63  1.86   10.25    17.20\n",
       "alcohol[12]  13.47  1.85   10.02    17.00\n",
       "alcohol[13]  13.05  1.88    9.56    16.69\n",
       "alcohol[14]  12.90  1.93    9.05    16.29\n",
       "alcohol[15]  12.78  1.91    9.11    16.26\n",
       "alcohol[16]  13.03  1.87    9.49    16.50\n",
       "alcohol[17]  13.61  1.84   10.19    17.17\n",
       "alcohol[18]  13.67  1.85   10.21    17.15"
      ]
     },
     "execution_count": 1106,
     "metadata": {},
     "output_type": "execute_result"
    }
   ],
   "source": [
    "az.summary(samp_model4,var_names=['mu','sigma','alcohol'],round_to=2,kind='stats')"
   ]
  },
  {
   "cell_type": "markdown",
   "metadata": {},
   "source": [
    "Using our model we can try to predict avarage alcohol consumption for following year and compare it to external data for 2017, that is 11.19 litre pre person.\\\n",
    "Surprisingly the output of the model with regression is almost the same as the output of normal model with slighly wider confidence interval. It might mean that\\\n",
    "there is no relation between GDP and alcohol conusmption."
   ]
  },
  {
   "cell_type": "code",
   "execution_count": 1107,
   "metadata": {},
   "outputs": [
    {
     "name": "stdout",
     "output_type": "stream",
     "text": [
      "Median fo predicted consumption = 13.69035\n",
      "Confidence interval = [ 10.6443 16.7625 ]\n",
      "11.19\n"
     ]
    }
   ],
   "source": [
    "median_alcohol = np.median(alcohol_sim)\n",
    "cinf_alcohol_sim = az.hdi(alcohol_sim.flatten(),0.89)\n",
    "print('Median fo predicted consumption =', median_alcohol)\n",
    "print('Confidence interval = [',*cinf_alcohol_sim,']' )\n",
    "print(DATA_2017)"
   ]
  },
  {
   "cell_type": "code",
   "execution_count": 1108,
   "metadata": {},
   "outputs": [
    {
     "name": "stderr",
     "output_type": "stream",
     "text": [
      "p:\\Users\\mjszo\\anaconda3\\envs\\data\\lib\\site-packages\\arviz\\data\\base.py:216: UserWarning: More chains (4000) than draws (19). Passed array should have shape (chains, draws, *shape)\n",
      "  warnings.warn(\n",
      "p:\\Users\\mjszo\\anaconda3\\envs\\data\\lib\\site-packages\\arviz\\data\\base.py:216: UserWarning: More chains (4000) than draws (19). Passed array should have shape (chains, draws, *shape)\n",
      "  warnings.warn(\n"
     ]
    },
    {
     "data": {
      "text/plain": [
       "<AxesSubplot:title={'center':'x'}>"
      ]
     },
     "execution_count": 1108,
     "metadata": {},
     "output_type": "execute_result"
    },
    {
     "data": {
      "image/png": "[encoded data removed]",
      "text/plain": [
       "<Figure size 432x288 with 1 Axes>"
      ]
     },
     "metadata": {
      "needs_background": "light"
     },
     "output_type": "display_data"
    },
    {
     "data": {
      "image/png": "[encoded data removed]",
      "text/plain": [
       "<Figure size 432x288 with 1 Axes>"
      ]
     },
     "metadata": {
      "needs_background": "light"
     },
     "output_type": "display_data"
    }
   ],
   "source": [
    "az.plot_posterior(alcohol_sim,round_to=2,kind='hist', bins=100,ref_val=DATA_2017)\n",
    "az.plot_posterior(alcohol_sim,round_to=2,kind='kde', bins=100,ref_val=DATA_2017)"
   ]
  },
  {
   "cell_type": "markdown",
   "metadata": {},
   "source": [
    "### Model comparison"
   ]
  },
  {
   "cell_type": "code",
   "execution_count": 1109,
   "metadata": {},
   "outputs": [],
   "source": [
    "fit_n=az.from_cmdstanpy(posterior=samp_model2, posterior_predictive='alcohol',log_likelihood='log_lik')\n",
    "fit_r=az.from_cmdstanpy(posterior=samp_model4, posterior_predictive='alcohol',log_likelihood='log_lik')"
   ]
  },
  {
   "cell_type": "code",
   "execution_count": 1110,
   "metadata": {},
   "outputs": [
    {
     "name": "stderr",
     "output_type": "stream",
     "text": [
      "p:\\Users\\mjszo\\anaconda3\\envs\\data\\lib\\site-packages\\arviz\\stats\\stats.py:248: FutureWarning: The frame.append method is deprecated and will be removed from pandas in a future version. Use pandas.concat instead.\n",
      "  ics = ics.append([ic_func(dataset, pointwise=True, scale=scale, var_name=var_name)])\n",
      "p:\\Users\\mjszo\\anaconda3\\envs\\data\\lib\\site-packages\\arviz\\stats\\stats.py:248: FutureWarning: The frame.append method is deprecated and will be removed from pandas in a future version. Use pandas.concat instead.\n",
      "  ics = ics.append([ic_func(dataset, pointwise=True, scale=scale, var_name=var_name)])\n"
     ]
    },
    {
     "data": {
      "text/html": [
       "<div>\n",
       "<style scoped>\n",
       "    .dataframe tbody tr th:only-of-type {\n",
       "        vertical-align: middle;\n",
       "    }\n",
       "\n",
       "    .dataframe tbody tr th {\n",
       "        vertical-align: top;\n",
       "    }\n",
       "\n",
       "    .dataframe thead th {\n",
       "        text-align: right;\n",
       "    }\n",
       "</style>\n",
       "<table border=\"1\" class=\"dataframe\">\n",
       "  <thead>\n",
       "    <tr style=\"text-align: right;\">\n",
       "      <th></th>\n",
       "      <th>rank</th>\n",
       "      <th>loo</th>\n",
       "      <th>p_loo</th>\n",
       "      <th>d_loo</th>\n",
       "      <th>weight</th>\n",
       "      <th>se</th>\n",
       "      <th>dse</th>\n",
       "      <th>warning</th>\n",
       "      <th>loo_scale</th>\n",
       "    </tr>\n",
       "  </thead>\n",
       "  <tbody>\n",
       "    <tr>\n",
       "      <th>Normal</th>\n",
       "      <td>0</td>\n",
       "      <td>-41.622382</td>\n",
       "      <td>1.691984</td>\n",
       "      <td>0.000000</td>\n",
       "      <td>1.0</td>\n",
       "      <td>3.071663</td>\n",
       "      <td>0.000000</td>\n",
       "      <td>False</td>\n",
       "      <td>log</td>\n",
       "    </tr>\n",
       "    <tr>\n",
       "      <th>Regression</th>\n",
       "      <td>1</td>\n",
       "      <td>-42.851461</td>\n",
       "      <td>2.288686</td>\n",
       "      <td>1.229079</td>\n",
       "      <td>0.0</td>\n",
       "      <td>3.237384</td>\n",
       "      <td>1.291287</td>\n",
       "      <td>False</td>\n",
       "      <td>log</td>\n",
       "    </tr>\n",
       "  </tbody>\n",
       "</table>\n",
       "</div>"
      ],
      "text/plain": [
       "            rank        loo     p_loo     d_loo  weight        se       dse  \\\n",
       "Normal         0 -41.622382  1.691984  0.000000     1.0  3.071663  0.000000   \n",
       "Regression     1 -42.851461  2.288686  1.229079     0.0  3.237384  1.291287   \n",
       "\n",
       "            warning loo_scale  \n",
       "Normal        False       log  \n",
       "Regression    False       log  "
      ]
     },
     "execution_count": 1110,
     "metadata": {},
     "output_type": "execute_result"
    }
   ],
   "source": [
    "loo_compare = az.compare({'Normal':fit_n,'Regression':fit_r}, 'loo')\n",
    "loo_compare"
   ]
  },
  {
   "cell_type": "code",
   "execution_count": 1111,
   "metadata": {},
   "outputs": [
    {
     "name": "stderr",
     "output_type": "stream",
     "text": [
      "p:\\Users\\mjszo\\anaconda3\\envs\\data\\lib\\site-packages\\arviz\\stats\\stats.py:248: FutureWarning: The frame.append method is deprecated and will be removed from pandas in a future version. Use pandas.concat instead.\n",
      "  ics = ics.append([ic_func(dataset, pointwise=True, scale=scale, var_name=var_name)])\n",
      "p:\\Users\\mjszo\\anaconda3\\envs\\data\\lib\\site-packages\\arviz\\stats\\stats.py:1458: UserWarning: For one or more samples the posterior variance of the log predictive densities exceeds 0.4. This could be indication of WAIC starting to fail. \n",
      "See http://arxiv.org/abs/1507.04544 for details\n",
      "  warnings.warn(\n",
      "p:\\Users\\mjszo\\anaconda3\\envs\\data\\lib\\site-packages\\arviz\\stats\\stats.py:248: FutureWarning: The frame.append method is deprecated and will be removed from pandas in a future version. Use pandas.concat instead.\n",
      "  ics = ics.append([ic_func(dataset, pointwise=True, scale=scale, var_name=var_name)])\n"
     ]
    },
    {
     "data": {
      "text/html": [
       "<div>\n",
       "<style scoped>\n",
       "    .dataframe tbody tr th:only-of-type {\n",
       "        vertical-align: middle;\n",
       "    }\n",
       "\n",
       "    .dataframe tbody tr th {\n",
       "        vertical-align: top;\n",
       "    }\n",
       "\n",
       "    .dataframe thead th {\n",
       "        text-align: right;\n",
       "    }\n",
       "</style>\n",
       "<table border=\"1\" class=\"dataframe\">\n",
       "  <thead>\n",
       "    <tr style=\"text-align: right;\">\n",
       "      <th></th>\n",
       "      <th>rank</th>\n",
       "      <th>waic</th>\n",
       "      <th>p_waic</th>\n",
       "      <th>d_waic</th>\n",
       "      <th>weight</th>\n",
       "      <th>se</th>\n",
       "      <th>dse</th>\n",
       "      <th>warning</th>\n",
       "      <th>waic_scale</th>\n",
       "    </tr>\n",
       "  </thead>\n",
       "  <tbody>\n",
       "    <tr>\n",
       "      <th>Normal</th>\n",
       "      <td>0</td>\n",
       "      <td>-41.599617</td>\n",
       "      <td>1.669219</td>\n",
       "      <td>0.000000</td>\n",
       "      <td>1.000000e+00</td>\n",
       "      <td>3.064054</td>\n",
       "      <td>0.000000</td>\n",
       "      <td>False</td>\n",
       "      <td>log</td>\n",
       "    </tr>\n",
       "    <tr>\n",
       "      <th>Regression</th>\n",
       "      <td>1</td>\n",
       "      <td>-42.824494</td>\n",
       "      <td>2.261720</td>\n",
       "      <td>1.224877</td>\n",
       "      <td>1.110223e-16</td>\n",
       "      <td>3.228388</td>\n",
       "      <td>1.283534</td>\n",
       "      <td>True</td>\n",
       "      <td>log</td>\n",
       "    </tr>\n",
       "  </tbody>\n",
       "</table>\n",
       "</div>"
      ],
      "text/plain": [
       "            rank       waic    p_waic    d_waic        weight        se  \\\n",
       "Normal         0 -41.599617  1.669219  0.000000  1.000000e+00  3.064054   \n",
       "Regression     1 -42.824494  2.261720  1.224877  1.110223e-16  3.228388   \n",
       "\n",
       "                 dse  warning waic_scale  \n",
       "Normal      0.000000    False        log  \n",
       "Regression  1.283534     True        log  "
      ]
     },
     "execution_count": 1111,
     "metadata": {},
     "output_type": "execute_result"
    }
   ],
   "source": [
    "waic_compare = az.compare({'Normal':fit_n,'Regression':fit_r}, 'waic')\n",
    "waic_compare"
   ]
  },
  {
   "cell_type": "code",
   "execution_count": 1112,
   "metadata": {},
   "outputs": [
    {
     "data": {
      "image/png": "[encoded data removed]",
      "text/plain": [
       "<Figure size 432x144 with 1 Axes>"
      ]
     },
     "metadata": {
      "needs_background": "light"
     },
     "output_type": "display_data"
    }
   ],
   "source": [
    "az.plot_compare(loo_compare)\n",
    "plt.show()\n"
   ]
  },
  {
   "cell_type": "code",
   "execution_count": 1113,
   "metadata": {},
   "outputs": [
    {
     "data": {
      "image/png": "[encoded data removed]",
      "text/plain": [
       "<Figure size 432x144 with 1 Axes>"
      ]
     },
     "metadata": {
      "needs_background": "light"
     },
     "output_type": "display_data"
    }
   ],
   "source": [
    "az.plot_compare(waic_compare)\n",
    "plt.show()"
   ]
  },
  {
   "cell_type": "markdown",
   "metadata": {},
   "source": [
    "After plotting the results we can see that outputs of loo and waic criteria are quite similar. What is suprising in both cases the normal model\\\n",
    "better describes the analysed data. The conlusion is that the decreasing cinsumption of alcohol in Moskow is related to some other phenomenas"
   ]
  },
  {
   "cell_type": "markdown",
   "metadata": {},
   "source": []
  }
 ],
 "metadata": {
  "interpreter": {
   "hash": "bb3a3e54745169df8fcb953f9a723aee97d02f7ad7df9b38018a207a28d83d80"
  },
  "kernelspec": {
   "display_name": "Python 3.9.10 ('data')",
   "language": "python",
   "name": "python3"
  },
  "language_info": {
   "codemirror_mode": {
    "name": "ipython",
    "version": 3
   },
   "file_extension": ".py",
   "mimetype": "text/x-python",
   "name": "python",
   "nbconvert_exporter": "python",
   "pygments_lexer": "ipython3",
   "version": "3.9.10"
  },
  "orig_nbformat": 4
 },
 "nbformat": 4,
 "nbformat_minor": 2
}
